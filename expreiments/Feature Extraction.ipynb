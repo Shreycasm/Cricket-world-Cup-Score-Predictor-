{
 "cells": [
  {
   "cell_type": "code",
   "execution_count": 1,
   "id": "4d993a60",
   "metadata": {
    "ExecuteTime": {
     "end_time": "2024-03-03T06:50:46.572292Z",
     "start_time": "2024-03-03T06:50:43.690811Z"
    }
   },
   "outputs": [],
   "source": [
    "import pandas as pd\n",
    "import numpy as np \n",
    "import matplotlib.pyplot as plt\n",
    "import seaborn as sns"
   ]
  },
  {
   "cell_type": "code",
   "execution_count": 2,
   "id": "d753db4f",
   "metadata": {
    "ExecuteTime": {
     "end_time": "2024-03-03T06:50:46.577642Z",
     "start_time": "2024-03-03T06:50:46.572292Z"
    }
   },
   "outputs": [],
   "source": [
    "import warnings\n",
    "warnings.filterwarnings(\"always\")"
   ]
  },
  {
   "cell_type": "code",
   "execution_count": 3,
   "id": "1c7f0ddd",
   "metadata": {
    "ExecuteTime": {
     "end_time": "2024-03-03T06:50:48.631708Z",
     "start_time": "2024-03-03T06:50:46.578649Z"
    }
   },
   "outputs": [],
   "source": [
    "balls = pd.read_csv(\"D:\\\\Ds\\\\projects\\\\cwc2023\\\\files\\\\artifacts\\\\ball_by_ball.csv\")\n",
    "matches = pd.read_csv('D:\\\\Ds\\\\projects\\\\cwc2023\\\\files\\\\artifacts\\\\match_by_match.csv')"
   ]
  },
  {
   "cell_type": "markdown",
   "id": "9c7f040a",
   "metadata": {},
   "source": [
    "# Columns that I need for model \n",
    "\n",
    "**Indipendent Columns**\n",
    "- **Batting team**\n",
    "- **Bowling Team**\n",
    "- **Veneue**\n",
    "- **Current Score**\n",
    "- **Wickets Left**\n",
    "- **Current RunRate**\n",
    "- **Balls Remaining in the inning**\n",
    "- **Runs in last 5 overs**\n",
    "- **Run Rate in Last 30 Balls**\n",
    "\n",
    "**Target Column**\n",
    "- **Total Runs in Innings**"
   ]
  },
  {
   "cell_type": "code",
   "execution_count": 4,
   "id": "08273687",
   "metadata": {
    "ExecuteTime": {
     "end_time": "2024-03-03T06:50:48.825371Z",
     "start_time": "2024-03-03T06:50:48.631708Z"
    }
   },
   "outputs": [],
   "source": [
    "balls = balls.drop(columns= [\"Unnamed: 0\"])\n",
    "matches = matches.drop(columns= [\"Unnamed: 0\"])"
   ]
  },
  {
   "cell_type": "code",
   "execution_count": 5,
   "id": "0239a282",
   "metadata": {
    "ExecuteTime": {
     "end_time": "2024-03-03T06:50:48.923452Z",
     "start_time": "2024-03-03T06:50:48.825371Z"
    }
   },
   "outputs": [],
   "source": [
    "balls_df = balls.copy()\n",
    "matches_df = matches.copy()"
   ]
  },
  {
   "cell_type": "code",
   "execution_count": 6,
   "id": "346fb56b",
   "metadata": {
    "ExecuteTime": {
     "end_time": "2024-03-03T06:50:48.931673Z",
     "start_time": "2024-03-03T06:50:48.923452Z"
    }
   },
   "outputs": [],
   "source": [
    "matches_df = matches_df[matches_df[\"gender\"] == \"male\"]"
   ]
  },
  {
   "cell_type": "code",
   "execution_count": 7,
   "id": "54724e99",
   "metadata": {
    "ExecuteTime": {
     "end_time": "2024-03-03T06:50:48.964848Z",
     "start_time": "2024-03-03T06:50:48.934298Z"
    }
   },
   "outputs": [],
   "source": [
    "matches_df[\"venue\"].replace({\n",
    "    \"Al Amerat Cricket Ground Oman Cricket (Ministry Turf 1)\": \"Al Amerat Cricket Ground Oman Cricket\",\n",
    "    \"Al Amerat Cricket Ground Oman Cricket (Ministry Turf 2)\" :'Al Amerat Cricket Ground Oman Cricket',\n",
    "    \"Allan Border Field, Brisbane\":\"Allan Border Field\",\n",
    "    \"Arnos Vale Ground, Kingstown\":'Arnos Vale Ground',\n",
    "    \"Arnos Vale Ground, Kingstown, St Vincent\":\"Arnos Vale Ground\",\n",
    "    \"Arun Jaitley Stadium, Delhi\":\"Arun Jaitley Stadium\",\n",
    "    \"Feroz Shah Kotla\":\"Arun Jaitley Stadium\",\n",
    "    \"Bangabandhu National Stadium, Dhaka\":\"Bangabandhu National Stadium\",\n",
    "    \"Barabati Stadium, Cuttack\":\"Barabati Stadium\",\n",
    "    \"Barsapara Cricket Stadium, Guwahati\":\"Barsapara Cricket Stadium\",\n",
    "    \"Basin Reserve, Wellington\":\"Basin Reserve\",\n",
    "    \"Bay Oval, Mount Maunganui\":\"Bay Oval\",\n",
    "    \"Bellerive Oval, Hobart\":\"Bellerive Oval\",\n",
    "    \"Bharat Ratna Shri Atal Bihari Vajpai Ekana Cricket Stadium\":\"Bharat Ratna Shri Atal Bihari Vajpayee Ekana Cricket Stadium\",\n",
    "    \"Bharat Ratna Shri Atal Bihari Vajpayee Ekana Cricket Stadium, Lucknow\":\"Bharat Ratna Shri Atal Bihari Vajpayee Ekana Cricket Stadium\",\n",
    "    \"Boland Bank Park, Paarl\":\"Boland Park\",\"Boland Bank Park\":\"Boland Park\",\n",
    "    \"Boland Park, Paarl\":\"Boland Park\",\n",
    "    \"Brisbane Cricket Ground, Woolloongabba \":\"Brisbane Cricket Ground\",\n",
    "    'Brisbane Cricket Ground, Woolloongabba, Brisbane':\"Brisbane Cricket Ground\",\n",
    "    \"Buffalo Park, East London\":\"Buffalo Park\",\"Cambusdoon New Ground, Ayr\":\"Cambusdoon New Ground\",\n",
    "    \"Captain Roop Singh Stadium, Gwalior\":\"Captain Roop Singh Stadium\",\n",
    "    \"Castle Avenue, Dublin\":\"Castle Avenue\",\n",
    "    \"Civil Service Cricket Club, Stormont, Belfast\":\"Civil Service Cricket Club\",\n",
    "    \"Civil Service Cricket Club, Stormont\":\"Civil Service Cricket Club\",\n",
    "    \"Clontarf Cricket Club Ground, Dublin\":\"Clontarf Cricket Club Ground\",\n",
    "    \"County Ground, New Road, Worcester\":\"County Ground, New Road\",\n",
    "    \"Daren Sammy National Cricket Stadium, Gros Islet\":\"Daren Sammy National Cricket Stadium\",\n",
    "    \"Daren Sammy National Cricket Stadium, Gros Islet, St Lucia\":\"Daren Sammy National Cricket Stadium\",\n",
    "    \"Darren Sammy National Cricket Stadium, Gros Islet\":\"Daren Sammy National Cricket Stadium\",\n",
    "    \"Darren Sammy National Cricket Stadium, St Lucia\":\"Daren Sammy National Cricket Stadium\",\n",
    "    \"De Beers Diamond Oval, Kimberley\":\"De Beers Diamond Oval\",\n",
    "    \"Diamond Oval, Kimberley\":\"De Beers Diamond Oval\",\n",
    "    \"Diamond Oval\":\"De Beers Diamond Oval\",\n",
    "    \"De Beers Diamond Oval, Kimberley\":\"De Beers Diamond Oval\",\n",
    "    \"Dr. Y.S. Rajasekhara Reddy ACA-VDCA Cricket Stadium, Visakhapatnam\":\"Dr. Y.S. Rajasekhara Reddy ACA-VDCA Cricket Stadium\",\n",
    "    \"Dubai Sports City Cricket Stadium\":\"Dubai International Cricket Stadium\",\n",
    "    \"Eden Gardens, Kolkata\":\"Eden Gardens\",\n",
    "    \"Eden Park No 2\":\"Eden Park Outer Oval\",\n",
    "    \"Eden Park, Auckland\":\"Eden Park\",\n",
    "    \"Edgbaston, Birmingham\":\"Edgbaston\",\n",
    "    \"Gaddafi Stadium, Lahore\":\"Gaddafi Stadium\",\n",
    "    \"Goodyear Park, Bloemfontein\" :\"Goodyear Park\" ,\n",
    "    \"Grace Road, Leicester\":\"Grace Road\",\n",
    "    'Grange Cricket Club Ground, Raeburn Place, Edinburg':\"Grange Cricket Club Ground, Raeburn Place\",\n",
    "    \"Grange Cricket Club, Raeburn Place\":\"Grange Cricket Club Ground, Raeburn Place\",\n",
    "    \"Greenfield International Stadium, Thiruvananthapuram\":\"Greenfield International Stadium\",\n",
    "    \"Gymkhana Club Ground, Nairobi\":\"Gymkhana Club Ground\",\n",
    "    \"Hagley Oval, Christchurch\":\"Hagley Oval\",\n",
    "    \"Headingley, Leeds\":\"Headingley\",\n",
    "    \"Himachal Pradesh Cricket Association Stadium, Dharamsala\":\"Himachal Pradesh Cricket Association Stadium\",\n",
    "    \"Holkar Cricket Stadium, Indore\":\"Holkar Cricket Stadium\",\n",
    "    \"ICC Academy, Dubai\":\"ICC Academy\",\n",
    "    \"ICC Global Cricket Academy\":\"ICC Academy\",\n",
    "    \"Iqbal Stadium, Faisalabad\":\"Iqbal Stadium\",\n",
    "    \"JSCA International Stadium Complex, Ranchi\":\"JSCA International Stadium Complex\",\n",
    "    \"Jade Stadium, Christchurch\":\"Jade Stadium\",\n",
    "    \"John Davies Oval, Queenstown\":\"John Davies Oval\",\n",
    "    \"Junction Oval, Melbourne\":\"Junction Oval\",\n",
    "    \"Kennington Oval, London\":\"Kennington Oval\",\n",
    "    \"Kensington Oval, Barbados\":\"Kensington Oval\",\n",
    "    \"Kensington Oval, Bridgetown\":\"Kensington Oval\",\n",
    "    \"Kensington Oval, Bridgetown, Barbados\":\"Kensington Oval\",\n",
    "    \"Kingsmead, Durban\":\"Kingsmead\",\n",
    "    \"Lord's, London\":\"Lord's\",\n",
    "    \"M.Chinnaswamy Stadium\":\"M Chinnaswamy Stadium\",\n",
    "    \"MA Aziz Stadium, Chittagong\":\"MA Aziz Stadium\",\n",
    "    \"MA Chidambaram Stadium, Chepauk, Chennai\":\"MA Chidambaram Stadium, Chepauk\",\n",
    "    \"Mahinda Rajapaksa International Cricket Stadium, Sooriyawewa, Hambantota\":\"Mahinda Rajapaksa International Cricket Stadium, Sooriyawewa\",\n",
    "    \"Mangaung Oval, Bloemfontein\":\"Mangaung Oval\",\n",
    "    \"Mannofield Park, Aberdeen\":\"Mannofield Park\",\n",
    "    \"Manuka Oval, Canberra\":\"Manuka Oval\",\n",
    "    \"Marrara Cricket Ground, Darwin\":\"Marrara Cricket Ground\",\n",
    "    \"McLean Park, Napier\":\"McLean Park\",\n",
    "    \"Nahar Singh Stadium, Faridabad\":\"Nahar Singh Stadium\",\n",
    "    \"Sardar Patel Stadium, Motera\":\"Narendra Modi Stadium, Ahmedabad\",\n",
    "    \"Sardar Patel (Gujarat) Stadium, Motera\":\"Narendra Modi Stadium, Ahmedabad\",\n",
    "    \"National Cricket Stadium, St George's\":\"National Cricket Stadium\",\n",
    "    \"National Cricket Stadium, Grenada\":\"National Cricket Stadium\",\n",
    "    \"National Stadium, Karachi\":\"National Stadium\",\n",
    "    \"Nehru Stadium\":\"Nehru Stadium, Fatorda\",\n",
    "    \"Nehru Stadium, Poona\":\"Nehru Stadium, Pune\",\n",
    "    \"New Wanderers Stadium, Johannesburg\":\"New Wanderers Stadium\",\n",
    "    \"Newlands, Cape Town\":\"Newlands\",\n",
    "    \"North Sydney Oval, Sydney\":\"North Sydney Oval\",\n",
    "    \"Old Hararians, Harare\"   :\"Old Hararians\",\n",
    "    \"Old Trafford, Manchester\":\"Old Trafford\",\n",
    "    \"P Sara Oval, Colombo\":\"P Sara Oval\",\n",
    "    \"Providence Stadium, Guyana\":\"Providence Stadium\",\n",
    "    \"Punjab Cricket Association IS Bindra Stadium, Mohali, Chandigarh\":'Punjab Cricket Association IS Bindra Stadium',\n",
    "    \"Punjab Cricket Association Stadium, Mohali\":\"Punjab Cricket Association IS Bindra Stadium\",\n",
    "    \"Punjab Cricket Association IS Bindra Stadium, Mohali\":\"Punjab Cricket Association IS Bindra Stadium\",\n",
    "    \"Queen's Park Oval\":\"Queen's Park Oval, Port of Spain\",\n",
    "    \"Queen's Park Oval, Port of Spain, Trinidad\":\"Queen's Park Oval, Port of Spain\",\n",
    "    \"Queen's Park Oval, Trinidad\":\"Queen's Park Oval, Port of Spain\",\n",
    "    \"Queens Sports Club, Bulawayo\":\"Queens Sports Club\",\n",
    "    \"R Premadasa Stadium, Colombo\":\"R Premadasa Stadium\",\n",
    "    \"R.Premadasa Stadium\":\"R Premadasa Stadium\",\n",
    "    \"R.Premadasa Stadium, Khettarama\":\"R Premadasa Stadium\",\n",
    "    \"Rajiv Gandhi International Stadium, Uppal, Hyderabad\":\"Rajiv Gandhi International Stadium, Uppal\",\n",
    "    \"Riverside Ground, Chester-le-Street\":\"Riverside Ground\",\n",
    "    \"Sabina Park, Kingston, Jamaica\":\"Sabina Park, Kingston\",\n",
    "    \"Saurashtra Cricket Association Stadium, Rajkot\":\"Saurashtra Cricket Association Stadium\",\n",
    "    \"Seddon Park, Hamilton\":\"Seddon Park\",\n",
    "    \"Sedgars Park, Potchefstroom\":\"Senwes Park\",\n",
    "    \"North West Cricket Stadium, Potchefstroom\":\"Senwes Park\",\n",
    "    \"Senwes Park, Potchefstroom\":\"Senwes Park\",\n",
    "    \"Seddon Park\":\"Senwes Park\",\n",
    "    \"Sharjah Cricket Stadium\":\"Sharjah Cricket Stadium\",\n",
    "    \"Shere Bangla National Stadium\":\"Sher-e-Bangla National Cricket Stadium\",\n",
    "    \"Shere Bangla National Stadium, Mirpur\":\"Sher-e-Bangla National Cricket Stadium\",\n",
    "    \"Sinhalese Sports Club\":\"Sinhalese Sports Club Ground\",\n",
    "    \"Sinhalese Sports Club Ground, Colombo\":\"Sinhalese Sports Club Ground\",\n",
    "    \"Sir Vivian Richards Stadium, North Sound, Antigua\":\"Sir Vivian Richards Stadium\",\n",
    "    \"Sir Vivian Richards Stadium, North Sound\":\"Sir Vivian Richards Stadium\",\n",
    "    \"Sir Vivian Richards Stadium, Antigua\":\"Sir Vivian Richards Stadium\",\n",
    "    \"Sophia Gardens, Cardiff\":\"Sophia Gardens\",\n",
    "    \"Southend Club Cricket Stadium, Karachi\":\"Southend Club Cricket Stadium\",\n",
    "    \"St George's Park, Port Elizabeth\":\"St George's Park\",\n",
    "    \"St Lawrence Ground, Canterbury\":\"St Lawrence Ground\",\n",
    "    \"SuperSport Park, Centurion\":\"SuperSport Park\",   \n",
    "    \"The Cooper Associates County Ground, Taunton\":\"The Cooper Associates County Ground\",\n",
    "    \"The Rose Bowl, Southampton\":\"The Rose Bowl\",\n",
    "    \"The Village, Malahide, Dublin\":\"The Village, Malahide\",\n",
    "    \"The Wanderers Stadium, Johannesburg\":\"The Wanderers Stadium\",\n",
    "    \"Titwood, Glasgow\":\"Titwood\",\n",
    "    \"Trent Bridge, Nottingham\":\"Trent Bridge\",\n",
    "    \"Tribhuvan University International Cricket Ground, Kirtipur\":\"Tribhuvan University International Cricket Ground\",\n",
    "    \"University Oval, Dunedin\":\"University Oval\",\n",
    "    \"VRA Ground\":\"VRA Cricket Ground\",\n",
    "    \"VRA Ground, Amstelveen\":\"VRA Cricket Ground\",\n",
    "    \"Vidarbha C.A. Ground\":\"Vidarbha Cricket Association Ground\",\n",
    "    \"Vidarbha Cricket Association Stadium, Jamtha\":\"Vidarbha Cricket Association Ground\",\n",
    "    \"Wanderers Cricket Ground, Windhoek\":\"Wanderers Cricket Ground\",\n",
    "    \"Wankhede Stadium, Mumbai\":\"Wankhede Stadium\",\n",
    "    \"Westpac Stadium\":\"Westpac Stadium, Wellington\",\n",
    "    \"Willowmoore Park, Benoni\":\"Willowmoore Park\",\n",
    "    \"Zahur Ahmed Chowdhury Stadium, Chattogram\":\"Zahur Ahmed Chowdhury Stadium\",\n",
    "    \"Zohur Ahmed Chowdhury Stadium\":\"Zahur Ahmed Chowdhury Stadium\",\n",
    "    \n",
    "    }, inplace =True)"
   ]
  },
  {
   "cell_type": "code",
   "execution_count": 8,
   "id": "3b101c49",
   "metadata": {
    "ExecuteTime": {
     "end_time": "2024-03-03T06:50:49.287571Z",
     "start_time": "2024-03-03T06:50:48.964848Z"
    }
   },
   "outputs": [],
   "source": [
    "balls_df = pd.merge(balls_df, matches_df[[\"match_id\", \"team_2\", \"team_1\", \"venue\"]], on =\"match_id\", how ='left')"
   ]
  },
  {
   "cell_type": "code",
   "execution_count": 9,
   "id": "2b3f8494",
   "metadata": {
    "ExecuteTime": {
     "end_time": "2024-03-03T06:50:49.398855Z",
     "start_time": "2024-03-03T06:50:49.289581Z"
    }
   },
   "outputs": [],
   "source": [
    "balls_df[\"bowling_team\"] = np.where(balls_df[\"batting_team\"] == balls_df[\"team_1\"], balls_df[\"team_2\"], balls_df[\"team_1\"])"
   ]
  },
  {
   "cell_type": "code",
   "execution_count": 10,
   "id": "c69bb294",
   "metadata": {
    "ExecuteTime": {
     "end_time": "2024-03-03T06:50:49.578707Z",
     "start_time": "2024-03-03T06:50:49.401763Z"
    }
   },
   "outputs": [],
   "source": [
    "balls_df = balls_df[balls_df['inning_no'] == 1]"
   ]
  },
  {
   "cell_type": "code",
   "execution_count": 11,
   "id": "2ba6fe1b",
   "metadata": {
    "ExecuteTime": {
     "end_time": "2024-03-03T06:50:49.621793Z",
     "start_time": "2024-03-03T06:50:49.582204Z"
    }
   },
   "outputs": [],
   "source": [
    "balls_df[\"current_score\"] = balls_df.groupby(\"match_id\")[\"total_runs\"].cumsum()\n"
   ]
  },
  {
   "cell_type": "code",
   "execution_count": 12,
   "id": "4d7fc977",
   "metadata": {
    "ExecuteTime": {
     "end_time": "2024-03-03T06:50:49.653720Z",
     "start_time": "2024-03-03T06:50:49.623506Z"
    }
   },
   "outputs": [],
   "source": [
    "balls_df[\"final_score\"] = balls_df.groupby(\"match_id\")[\"total_runs\"].transform(\"sum\")"
   ]
  },
  {
   "cell_type": "code",
   "execution_count": 13,
   "id": "3c9958bd",
   "metadata": {
    "ExecuteTime": {
     "end_time": "2024-03-03T06:50:49.720064Z",
     "start_time": "2024-03-03T06:50:49.653720Z"
    }
   },
   "outputs": [],
   "source": [
    "balls_df[\"is_wicket\"] = np.where(balls_df[\"wicket_type\"] == \"retired hurt\", 0,\n",
    "         np.where(balls_df['wicket_type'] == \"0\" , 0, 1))"
   ]
  },
  {
   "cell_type": "code",
   "execution_count": 14,
   "id": "d07655c6",
   "metadata": {
    "ExecuteTime": {
     "end_time": "2024-03-03T06:50:49.771319Z",
     "start_time": "2024-03-03T06:50:49.720748Z"
    }
   },
   "outputs": [],
   "source": [
    "balls_df[\"wickets_fallen\"] = balls_df.groupby(\"match_id\")[\"is_wicket\"].cumsum()"
   ]
  },
  {
   "cell_type": "code",
   "execution_count": 15,
   "id": "5637769e",
   "metadata": {
    "ExecuteTime": {
     "end_time": "2024-03-03T06:50:49.779064Z",
     "start_time": "2024-03-03T06:50:49.771319Z"
    }
   },
   "outputs": [],
   "source": [
    "balls_df[\"wickets_left\"] = 10 - balls_df[\"wickets_fallen\"]"
   ]
  },
  {
   "cell_type": "code",
   "execution_count": 16,
   "id": "6ede351c",
   "metadata": {
    "ExecuteTime": {
     "end_time": "2024-03-03T06:50:49.850917Z",
     "start_time": "2024-03-03T06:50:49.780162Z"
    }
   },
   "outputs": [],
   "source": [
    "balls_df[\"legal_ball\"] = np.where((balls_df[\"extra_type\"] == \"noballs\") | \n",
    "                     (balls_df[\"extra_type\"] == \"wides\"),\n",
    "                     0,1)"
   ]
  },
  {
   "cell_type": "code",
   "execution_count": 17,
   "id": "d68a055a",
   "metadata": {
    "ExecuteTime": {
     "end_time": "2024-03-03T06:50:49.942770Z",
     "start_time": "2024-03-03T06:50:49.852809Z"
    }
   },
   "outputs": [],
   "source": [
    "balls_df[\"ball_num_in_over\"] = balls_df.groupby([\"match_id\", \"over_num\"])[\"legal_ball\"].cumsum()"
   ]
  },
  {
   "cell_type": "code",
   "execution_count": 18,
   "id": "a2a94d81",
   "metadata": {
    "ExecuteTime": {
     "end_time": "2024-03-03T06:50:49.952981Z",
     "start_time": "2024-03-03T06:50:49.943060Z"
    }
   },
   "outputs": [],
   "source": [
    "balls_df[\"ball_num_in_over\"] = np.where(balls_df[\"ball_num_in_over\"] > 6 ,\n",
    "                                           np.nan, balls_df[\"ball_num_in_over\"] )"
   ]
  },
  {
   "cell_type": "code",
   "execution_count": 19,
   "id": "cbf5b77f",
   "metadata": {
    "ExecuteTime": {
     "end_time": "2024-03-03T06:50:49.962000Z",
     "start_time": "2024-03-03T06:50:49.952981Z"
    }
   },
   "outputs": [],
   "source": [
    "balls_df[\"ball_num_in_over\"].fillna(method=\"bfill\", inplace =True)"
   ]
  },
  {
   "cell_type": "code",
   "execution_count": 20,
   "id": "99828d44",
   "metadata": {
    "ExecuteTime": {
     "end_time": "2024-03-03T06:50:49.977849Z",
     "start_time": "2024-03-03T06:50:49.963007Z"
    }
   },
   "outputs": [],
   "source": [
    "balls_df[\"current_ball_no\"] = (balls_df[\"over_num\"]  * 6) + balls_df[\"ball_num_in_over\"]"
   ]
  },
  {
   "cell_type": "code",
   "execution_count": 21,
   "id": "5391cbd3",
   "metadata": {
    "ExecuteTime": {
     "end_time": "2024-03-03T06:50:49.988239Z",
     "start_time": "2024-03-03T06:50:49.978854Z"
    }
   },
   "outputs": [],
   "source": [
    "balls_df[\"balls_left\"] = 300 - balls_df[\"current_ball_no\"]"
   ]
  },
  {
   "cell_type": "code",
   "execution_count": 22,
   "id": "64f5a90c",
   "metadata": {
    "ExecuteTime": {
     "end_time": "2024-03-03T06:50:50.005839Z",
     "start_time": "2024-03-03T06:50:49.990246Z"
    }
   },
   "outputs": [],
   "source": [
    "balls_df[\"run_rate\"] = (balls_df[\"current_score\"] * 6) / balls_df[\"current_ball_no\"]"
   ]
  },
  {
   "cell_type": "code",
   "execution_count": 23,
   "id": "946684a1",
   "metadata": {
    "ExecuteTime": {
     "end_time": "2024-03-03T06:50:51.639247Z",
     "start_time": "2024-03-03T06:50:50.007122Z"
    }
   },
   "outputs": [],
   "source": [
    "groups = balls_df.groupby([\"match_id\"])\n",
    "unique_match_id = balls_df[\"match_id\"].unique()\n",
    "\n",
    "runs_in_last_30_balls = []\n",
    "for i in unique_match_id:\n",
    "    runs_in_last_30_balls.extend(groups.get_group(i).rolling(window = 30)[\"total_runs\"].sum().values.tolist())\n",
    "    "
   ]
  },
  {
   "cell_type": "code",
   "execution_count": 24,
   "id": "f01425b4",
   "metadata": {
    "ExecuteTime": {
     "end_time": "2024-03-03T06:50:51.701376Z",
     "start_time": "2024-03-03T06:50:51.639247Z"
    }
   },
   "outputs": [],
   "source": [
    "balls_df[\"runs_in_last_30_balls\"] = runs_in_last_30_balls"
   ]
  },
  {
   "cell_type": "code",
   "execution_count": 25,
   "id": "8eb262d7",
   "metadata": {
    "ExecuteTime": {
     "end_time": "2024-03-03T06:50:51.712471Z",
     "start_time": "2024-03-03T06:50:51.701376Z"
    }
   },
   "outputs": [],
   "source": [
    "balls_df[\"rr_in_last_30_overs\"] = balls_df[\"runs_in_last_30_balls\"] / 5"
   ]
  },
  {
   "cell_type": "code",
   "execution_count": 26,
   "id": "134b43bf",
   "metadata": {
    "ExecuteTime": {
     "end_time": "2024-03-03T06:50:51.756379Z",
     "start_time": "2024-03-03T06:50:51.712471Z"
    }
   },
   "outputs": [],
   "source": [
    "model_df = balls_df[[\"batting_team\", \"bowling_team\",\"venue\", \"current_score\", \"run_rate\", \"balls_left\",\n",
    "         \"wickets_left\",\"runs_in_last_30_balls\",\"rr_in_last_30_overs\", \"final_score\"]]"
   ]
  },
  {
   "cell_type": "code",
   "execution_count": 27,
   "id": "4dbba0a9",
   "metadata": {
    "ExecuteTime": {
     "end_time": "2024-03-03T06:50:51.862455Z",
     "start_time": "2024-03-03T06:50:51.756379Z"
    }
   },
   "outputs": [],
   "source": [
    "model_df = model_df.dropna()"
   ]
  },
  {
   "cell_type": "code",
   "execution_count": 30,
   "id": "a4cece1e",
   "metadata": {
    "ExecuteTime": {
     "end_time": "2024-03-03T06:51:32.633772Z",
     "start_time": "2024-03-03T06:51:32.554275Z"
    }
   },
   "outputs": [],
   "source": [
    "import pickle \n",
    "with open(\"final_df.pkl\",\"wb\" ) as f:\n",
    "    pickle.dump(model_df,f)"
   ]
  },
  {
   "cell_type": "code",
   "execution_count": null,
   "id": "7354061d",
   "metadata": {
    "ExecuteTime": {
     "end_time": "2024-03-03T06:50:52.773371Z",
     "start_time": "2024-03-03T06:50:52.773371Z"
    }
   },
   "outputs": [],
   "source": [
    "# teams = [\"Australia\", \"Sri Lanka\", \"India\", \"England\",\"South Africa\", \"Pakistan\",\"Bangladesh\", \"Afghanistan\", \"Netherlands\", \"New Zealand\"]\n",
    "# venues= [\"Arun Jaitley Stadium\", \"Bharat Ratna Shri Atal Bihari Vajpayee Ekana Cricket Stadium\", \"Eden Gardens\",\n",
    "#          \"Himachal Pradesh Cricket Association Stadium\", \"M Chinnaswamy Stadium\", \"MA Chidambaram Stadium, Chepauk\", \"Maharashtra Cricket Association Stadium\",\n",
    "#          \"Rajiv Gandhi International Stadium, Uppal\", \"Wankhede Stadium\",\"Narendra Modi Stadium, Ahmedabad\"]\n"
   ]
  },
  {
   "cell_type": "code",
   "execution_count": null,
   "id": "4cf87c28",
   "metadata": {
    "ExecuteTime": {
     "end_time": "2024-03-03T06:50:52.777413Z",
     "start_time": "2024-03-03T06:50:52.777413Z"
    }
   },
   "outputs": [],
   "source": [
    "# def other_team(team):\n",
    "#     return team if team in teams else \"other\"\n",
    "# model_df[\"batting_team\"] = model_df[\"batting_team\"].apply(other_team)\n",
    "# model_df[\"bowling_team\"] = model_df[\"bowling_team\"].apply(other_team)"
   ]
  },
  {
   "cell_type": "code",
   "execution_count": null,
   "id": "0404d3a5",
   "metadata": {
    "ExecuteTime": {
     "end_time": "2024-03-03T06:50:52.778417Z",
     "start_time": "2024-03-03T06:50:52.778417Z"
    }
   },
   "outputs": [],
   "source": [
    "# def other_team(team):\n",
    "#     return team if team in venues else \"other\"\n",
    "# model_df[\"venue\"] = model_df[\"venue\"].apply(other_team)"
   ]
  },
  {
   "cell_type": "code",
   "execution_count": null,
   "id": "fe9512f4",
   "metadata": {
    "ExecuteTime": {
     "end_time": "2024-03-03T06:50:52.779420Z",
     "start_time": "2024-03-03T06:50:52.779420Z"
    }
   },
   "outputs": [],
   "source": [
    "# model_df"
   ]
  },
  {
   "cell_type": "code",
   "execution_count": null,
   "id": "47ea3243",
   "metadata": {
    "ExecuteTime": {
     "end_time": "2024-03-03T06:50:52.781419Z",
     "start_time": "2024-03-03T06:50:52.781419Z"
    }
   },
   "outputs": [],
   "source": [
    "# num_col = [col for col in model_df.columns if model_df[col].dtype != \"O\"]\n",
    "# cat_col = [col for col in model_df.columns if model_df[col].dtype == \"O\"]"
   ]
  },
  {
   "cell_type": "code",
   "execution_count": null,
   "id": "9fdebe62",
   "metadata": {
    "ExecuteTime": {
     "end_time": "2024-03-03T06:50:52.782616Z",
     "start_time": "2024-03-03T06:50:52.782616Z"
    }
   },
   "outputs": [],
   "source": [
    "# fig , ax = plt.subplots(len(num_col), 2)\n",
    "# for j,i in enumerate(num_col):\n",
    "#     sns.histplot(x = model_df[i], kde =True , bins = 50, edgecolor=None , ax = ax [j,0])\n",
    "#     ax[j,0].set_title(i)\n",
    "#     sns.boxplot(x = model_df[i], ax = ax [j,1])\n",
    "# plt.tight_layout()"
   ]
  },
  {
   "cell_type": "code",
   "execution_count": null,
   "id": "34374736",
   "metadata": {
    "ExecuteTime": {
     "end_time": "2024-03-03T06:50:52.783717Z",
     "start_time": "2024-03-03T06:50:52.783717Z"
    }
   },
   "outputs": [],
   "source": [
    "# transform_cols = ['current_score',\n",
    "#  'run_rate',\n",
    "#  'runs_in_last_30_balls',\n",
    "#  'rr_in_last_30_overs',\n",
    "#  ]"
   ]
  },
  {
   "cell_type": "code",
   "execution_count": null,
   "id": "de294086",
   "metadata": {
    "ExecuteTime": {
     "end_time": "2024-03-03T06:50:52.785315Z",
     "start_time": "2024-03-03T06:50:52.785315Z"
    }
   },
   "outputs": [],
   "source": [
    "# from scipy.stats import boxcox\n"
   ]
  },
  {
   "cell_type": "code",
   "execution_count": null,
   "id": "2bdb057d",
   "metadata": {
    "ExecuteTime": {
     "end_time": "2024-03-03T06:50:52.786314Z",
     "start_time": "2024-03-03T06:50:52.786314Z"
    }
   },
   "outputs": [],
   "source": [
    "# fig , ax = plt.subplots(len(transform_cols), 2)\n",
    "# for j,i in enumerate(transform_cols):\n",
    "#     ransformed_df, lambda_value = boxcox(model_df[i] + 1)\n",
    "#     sns.histplot(x = ransformed_df, kde =True , bins = 50, edgecolor=None , ax = ax [j,0])\n",
    "#     ax[j,0].set_title(i)\n",
    "#     sns.histplot(x = np.log1p(model_df[i]), kde =True , bins = 50, edgecolor=None , ax = ax [j,1])\n",
    "# plt.tight_layout()    "
   ]
  },
  {
   "cell_type": "code",
   "execution_count": null,
   "id": "33a393eb",
   "metadata": {
    "ExecuteTime": {
     "end_time": "2024-03-03T06:50:52.788230Z",
     "start_time": "2024-03-03T06:50:52.788230Z"
    }
   },
   "outputs": [],
   "source": [
    "# X = model_df.drop(columns=['final_score'])\n",
    "# y = model_df['final_score']\n",
    "# from sklearn.model_selection import train_test_split\n",
    "# X_train,X_test,y_train,y_test = train_test_split(X,y,test_size=0.2,random_state=1)"
   ]
  },
  {
   "cell_type": "code",
   "execution_count": null,
   "id": "c0b0134d",
   "metadata": {
    "ExecuteTime": {
     "end_time": "2024-03-03T06:50:52.789329Z",
     "start_time": "2024-03-03T06:50:52.789329Z"
    }
   },
   "outputs": [],
   "source": [
    "# from sklearn.compose import ColumnTransformer\n",
    "# from sklearn.preprocessing import OneHotEncoder\n",
    "# from sklearn.pipeline import Pipeline\n",
    "# from sklearn.preprocessing import StandardScaler\n",
    "# from sklearn.ensemble import RandomForestRegressor\n",
    "# from xgboost import XGBRegressor\n",
    "# from sklearn.metrics import r2_score,mean_absolute_error, mean_squared_error"
   ]
  },
  {
   "cell_type": "code",
   "execution_count": null,
   "id": "984103fb",
   "metadata": {
    "ExecuteTime": {
     "end_time": "2024-03-03T06:50:52.791203Z",
     "start_time": "2024-03-03T06:50:52.791203Z"
    }
   },
   "outputs": [],
   "source": [
    "# trf = ColumnTransformer([\n",
    "#     ('trf',OneHotEncoder(sparse=False),['batting_team','bowling_team','venue'])\n",
    "# ]\n",
    "# ,remainder='passthrough')"
   ]
  },
  {
   "cell_type": "code",
   "execution_count": null,
   "id": "4235afda",
   "metadata": {
    "ExecuteTime": {
     "end_time": "2024-03-03T06:50:52.792650Z",
     "start_time": "2024-03-03T06:50:52.792650Z"
    }
   },
   "outputs": [],
   "source": [
    "# pipe = Pipeline(steps=[\n",
    "#     ('step1',trf),\n",
    "#     ('step2',StandardScaler()),\n",
    "#     ('step3',XGBRegressor(n_estimators=1000,learning_rate=0.2,max_depth=12,random_state=1))\n",
    "# ])"
   ]
  },
  {
   "cell_type": "code",
   "execution_count": null,
   "id": "b5abaa1f",
   "metadata": {
    "ExecuteTime": {
     "end_time": "2024-03-03T06:50:52.793260Z",
     "start_time": "2024-03-03T06:50:52.793260Z"
    },
    "scrolled": true
   },
   "outputs": [],
   "source": [
    "# pipe.fit(X_train,y_train)\n",
    "# y_pred = pipe.predict(X_test)\n",
    "# print(r2_score(y_test,y_pred))\n",
    "# print(mean_absolute_error(y_test,y_pred))\n",
    "\n",
    "# y_pred_train = pipe.predict(X_train)\n",
    "# print(r2_score(y_train,y_pred_train))\n",
    "# print(mean_absolute_error(y_train,y_pred_train))\n",
    "\n"
   ]
  },
  {
   "cell_type": "code",
   "execution_count": null,
   "id": "daf8d005",
   "metadata": {
    "ExecuteTime": {
     "end_time": "2024-03-03T06:50:52.793260Z",
     "start_time": "2024-03-03T06:50:52.793260Z"
    }
   },
   "outputs": [],
   "source": [
    "from sklearn.neighbors import KNeighborsRegressor"
   ]
  },
  {
   "cell_type": "code",
   "execution_count": null,
   "id": "a66e4a74",
   "metadata": {
    "ExecuteTime": {
     "end_time": "2024-03-03T06:50:52.793260Z",
     "start_time": "2024-03-03T06:50:52.793260Z"
    }
   },
   "outputs": [],
   "source": [
    "knn = KNeighborsRegressor()"
   ]
  },
  {
   "cell_type": "code",
   "execution_count": null,
   "id": "a4de812c",
   "metadata": {
    "ExecuteTime": {
     "end_time": "2024-03-03T06:50:52.798569Z",
     "start_time": "2024-03-03T06:50:52.798569Z"
    }
   },
   "outputs": [],
   "source": [
    "# pipe = Pipeline(steps=[\n",
    "#     ('step1',trf),\n",
    "#     ('step2',StandardScaler()),\n",
    "#     ('step3',knn)\n",
    "# ])"
   ]
  },
  {
   "cell_type": "code",
   "execution_count": null,
   "id": "9588c1ee",
   "metadata": {
    "ExecuteTime": {
     "end_time": "2024-03-03T06:50:52.798569Z",
     "start_time": "2024-03-03T06:50:52.798569Z"
    },
    "scrolled": true
   },
   "outputs": [],
   "source": [
    "# pipe.fit(X_train,y_train)\n",
    "# y_pred = pipe.predict(X_test)\n",
    "# print(r2_score(y_test,y_pred))\n",
    "# print(mean_absolute_error(y_test,y_pred))\n",
    "\n",
    "# y_pred_train = pipe.predict(X_train)\n",
    "# print(r2_score(y_train,y_pred_train))\n",
    "# print(mean_absolute_error(y_train,y_pred_train))\n",
    "\n"
   ]
  },
  {
   "cell_type": "code",
   "execution_count": null,
   "id": "4155b250",
   "metadata": {
    "ExecuteTime": {
     "end_time": "2024-03-03T06:50:52.798569Z",
     "start_time": "2024-03-03T06:50:52.798569Z"
    },
    "code_folding": []
   },
   "outputs": [],
   "source": [
    "# from sklearn.model_selection import GridSearchCV\n",
    "# trf = ColumnTransformer(\n",
    "#     transformers=[('trf', OneHotEncoder(sparse=False), ['batting_team', 'bowling_team', 'venue'])],\n",
    "#     remainder='passthrough'\n",
    "# )\n",
    "\n",
    "# knn = KNeighborsRegressor(n_neighbors=3,weights= 'distance',)\n",
    "# pipe = Pipeline(steps=[\n",
    "#     ('step1', trf),\n",
    "#     ('step2', StandardScaler()),\n",
    "#     ('step3', knn)\n",
    "# ])\n",
    "\n",
    "# param_grid = {\n",
    "#     'step3__algorithm': ['ball_tree'],\n",
    "# }\n",
    "\n",
    "# grid_search = GridSearchCV(pipe, param_grid, scoring='neg_mean_absolute_error')\n",
    "# grid_search.fit(X_train, y_train)\n",
    "\n",
    "# # Get the best model from the grid search\n",
    "# best_model = grid_search.best_estimator_\n",
    "\n",
    "# # Predict on the test set\n",
    "# y_pred = best_model.predict(X_test)\n",
    "\n",
    "# # Evaluate the model\n",
    "# print(\"Best Parameters:\", grid_search.best_params_)\n",
    "# print(\"R2 Score:\", r2_score(y_test, y_pred))\n",
    "print(\"Mean Absolute Error:\", mean_absolute_error(y_test, y_pred))"
   ]
  },
  {
   "cell_type": "code",
   "execution_count": null,
   "id": "cf97a25e",
   "metadata": {
    "ExecuteTime": {
     "end_time": "2024-03-03T06:50:52.808143Z",
     "start_time": "2024-03-03T06:50:52.808143Z"
    }
   },
   "outputs": [],
   "source": [
    "# from sklearn.model_selection import RandomizedSearchCV\n",
    "# from scipy.stats import randint\n",
    "\n",
    "# # Assuming you have a transformer 'trf' defined somewhere\n",
    "# trf = ColumnTransformer(\n",
    "#     transformers=[('trf', OneHotEncoder(sparse=False), ['batting_team', 'bowling_team', 'venue'])],\n",
    "#     remainder='passthrough'\n",
    "# )\n",
    "\n",
    "# knn = KNeighborsRegressor()\n",
    "\n",
    "# pipe = Pipeline(steps=[\n",
    "#     ('step1', trf),\n",
    "#     ('step2', StandardScaler()),\n",
    "#     ('step3', knn)\n",
    "# ])\n",
    "\n",
    "# # Define the parameter distributions for RandomizedSearchCV\n",
    "# param_dist = {\n",
    "#     'step3__n_neighbors': randint(2, 10),\n",
    "#     'step3__weights': ['uniform', 'distance'],\n",
    "#     'step3__p': [1, 2],\n",
    "#     'step3__metric': ['euclidean', 'manhattan'],\n",
    "#     'step3__algorithm': ['auto', 'ball_tree', 'kd_tree', 'brute'],\n",
    "\n",
    "# }\n",
    "\n",
    "# # Perform RandomizedSearchCV\n",
    "# random_search = RandomizedSearchCV(pipe, param_distributions=param_dist, scoring='neg_mean_absolute_error', random_state=42)\n",
    "# random_search.fit(X_train, y_train)\n",
    "\n",
    "# # Get the best model from the random search\n",
    "# best_model_random = random_search.best_estimator_\n",
    "\n",
    "# # Predict on the test set\n",
    "# y_pred_random = best_model_random.predict(X_test)\n",
    "\n",
    "# # Evaluate the model\n",
    "# print(\"Best Parameters (RandomizedSearchCV):\", random_search.best_params_)\n",
    "# print(\"R2 Score:\", r2_score(y_test, y_pred_random))\n",
    "# print(\"Mean Absolute Error:\", mean_absolute_error(y_test, y_pred_random))\n"
   ]
  },
  {
   "cell_type": "code",
   "execution_count": null,
   "id": "1f850d38",
   "metadata": {},
   "outputs": [],
   "source": []
  }
 ],
 "metadata": {
  "kernelspec": {
   "display_name": "Python 3 (ipykernel)",
   "language": "python",
   "name": "python3"
  },
  "language_info": {
   "codemirror_mode": {
    "name": "ipython",
    "version": 3
   },
   "file_extension": ".py",
   "mimetype": "text/x-python",
   "name": "python",
   "nbconvert_exporter": "python",
   "pygments_lexer": "ipython3",
   "version": "3.11.5"
  },
  "toc": {
   "base_numbering": 1,
   "nav_menu": {},
   "number_sections": true,
   "sideBar": true,
   "skip_h1_title": false,
   "title_cell": "Table of Contents",
   "title_sidebar": "Contents",
   "toc_cell": false,
   "toc_position": {},
   "toc_section_display": true,
   "toc_window_display": false
  },
  "varInspector": {
   "cols": {
    "lenName": 16,
    "lenType": 16,
    "lenVar": 40
   },
   "kernels_config": {
    "python": {
     "delete_cmd_postfix": "",
     "delete_cmd_prefix": "del ",
     "library": "var_list.py",
     "varRefreshCmd": "print(var_dic_list())"
    },
    "r": {
     "delete_cmd_postfix": ") ",
     "delete_cmd_prefix": "rm(",
     "library": "var_list.r",
     "varRefreshCmd": "cat(var_dic_list()) "
    }
   },
   "types_to_exclude": [
    "module",
    "function",
    "builtin_function_or_method",
    "instance",
    "_Feature"
   ],
   "window_display": false
  }
 },
 "nbformat": 4,
 "nbformat_minor": 5
}
