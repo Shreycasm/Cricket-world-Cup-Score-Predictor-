{
 "cells": [
  {
   "cell_type": "code",
   "execution_count": 62,
   "id": "694bdf38",
   "metadata": {
    "ExecuteTime": {
     "end_time": "2024-03-09T13:10:25.351055Z",
     "start_time": "2024-03-09T13:10:25.341847Z"
    }
   },
   "outputs": [],
   "source": [
    "import pandas as pd\n",
    "import numpy as np\n",
    "import matplotlib.pyplot as plt\n",
    "import seaborn as sns\n",
    "from matplotlib import font_manager"
   ]
  },
  {
   "cell_type": "code",
   "execution_count": 63,
   "id": "2c29b2f0",
   "metadata": {
    "ExecuteTime": {
     "end_time": "2024-03-09T13:10:25.398467Z",
     "start_time": "2024-03-09T13:10:25.358710Z"
    }
   },
   "outputs": [],
   "source": [
    "from IPython.core.interactiveshell import InteractiveShell\n",
    "\n",
    "InteractiveShell.ast_node_interactivity = \"all\""
   ]
  },
  {
   "cell_type": "code",
   "execution_count": 64,
   "id": "0965df93",
   "metadata": {
    "ExecuteTime": {
     "end_time": "2024-03-09T13:10:25.409792Z",
     "start_time": "2024-03-09T13:10:25.403494Z"
    }
   },
   "outputs": [],
   "source": [
    "from ipywidgets import interact, widgets\n",
    "from IPython.display import display"
   ]
  },
  {
   "cell_type": "code",
   "execution_count": 65,
   "id": "442e060d",
   "metadata": {
    "ExecuteTime": {
     "end_time": "2024-03-09T13:10:25.418567Z",
     "start_time": "2024-03-09T13:10:25.414063Z"
    }
   },
   "outputs": [],
   "source": [
    "pd.set_option(\"display.max_columns\", 1000)"
   ]
  },
  {
   "cell_type": "code",
   "execution_count": 66,
   "id": "cf7b0755",
   "metadata": {
    "ExecuteTime": {
     "end_time": "2024-03-09T13:10:25.425881Z",
     "start_time": "2024-03-09T13:10:25.421584Z"
    }
   },
   "outputs": [],
   "source": [
    "import os"
   ]
  },
  {
   "cell_type": "code",
   "execution_count": 67,
   "id": "22c2ec4a",
   "metadata": {
    "ExecuteTime": {
     "end_time": "2024-03-09T13:10:25.433541Z",
     "start_time": "2024-03-09T13:10:25.427891Z"
    }
   },
   "outputs": [
    {
     "data": {
      "text/plain": [
       "'D:\\\\Ds\\\\projects\\\\final_cwc\\\\artifacts'"
      ]
     },
     "execution_count": 67,
     "metadata": {},
     "output_type": "execute_result"
    }
   ],
   "source": [
    "os.getcwd()"
   ]
  },
  {
   "cell_type": "code",
   "execution_count": 68,
   "id": "bdc10e27",
   "metadata": {
    "ExecuteTime": {
     "end_time": "2024-03-09T13:10:25.438673Z",
     "start_time": "2024-03-09T13:10:25.434583Z"
    }
   },
   "outputs": [],
   "source": [
    "os.chdir(\"..\")"
   ]
  },
  {
   "cell_type": "code",
   "execution_count": 69,
   "id": "eafa8f08",
   "metadata": {
    "ExecuteTime": {
     "end_time": "2024-03-09T13:10:25.444326Z",
     "start_time": "2024-03-09T13:10:25.440776Z"
    }
   },
   "outputs": [],
   "source": [
    "os.chdir(\".\\\\artifacts\")"
   ]
  },
  {
   "cell_type": "code",
   "execution_count": 70,
   "id": "7bce1d68",
   "metadata": {
    "ExecuteTime": {
     "end_time": "2024-03-09T13:10:25.451088Z",
     "start_time": "2024-03-09T13:10:25.446748Z"
    }
   },
   "outputs": [
    {
     "data": {
      "text/plain": [
       "'D:\\\\Ds\\\\projects\\\\final_cwc\\\\artifacts'"
      ]
     },
     "execution_count": 70,
     "metadata": {},
     "output_type": "execute_result"
    }
   ],
   "source": [
    "os.getcwd()"
   ]
  },
  {
   "cell_type": "code",
   "execution_count": 71,
   "id": "d18fcf50",
   "metadata": {
    "ExecuteTime": {
     "end_time": "2024-03-09T13:10:25.532749Z",
     "start_time": "2024-03-09T13:10:25.452607Z"
    }
   },
   "outputs": [],
   "source": [
    "matches = pd.read_csv('cwc_2023_matches.csv')\n",
    "balls = pd.read_csv('cwc_2023_balls.csv')"
   ]
  },
  {
   "cell_type": "markdown",
   "id": "524fa046",
   "metadata": {},
   "source": [
    "# Analysis"
   ]
  },
  {
   "cell_type": "markdown",
   "id": "b2bf9efe",
   "metadata": {},
   "source": [
    "## Bowling Stats"
   ]
  },
  {
   "cell_type": "markdown",
   "id": "eaa43a44",
   "metadata": {},
   "source": [
    "### most team wickets"
   ]
  },
  {
   "cell_type": "code",
   "execution_count": 72,
   "id": "6c311ff8",
   "metadata": {
    "ExecuteTime": {
     "end_time": "2024-03-09T13:10:25.551503Z",
     "start_time": "2024-03-09T13:10:25.534758Z"
    }
   },
   "outputs": [
    {
     "data": {
      "text/plain": [
       "wicket_type\n",
       "0                    25390\n",
       "caught                 448\n",
       "bowled                 141\n",
       "lbw                     76\n",
       "run out                 38\n",
       "caught and bowled       14\n",
       "stumped                 11\n",
       "retired hurt             1\n",
       "Name: count, dtype: int64"
      ]
     },
     "execution_count": 72,
     "metadata": {},
     "output_type": "execute_result"
    }
   ],
   "source": [
    "balls[\"wicket_type\"].value_counts()"
   ]
  },
  {
   "cell_type": "code",
   "execution_count": 73,
   "id": "57722195",
   "metadata": {
    "ExecuteTime": {
     "end_time": "2024-03-09T13:10:25.560192Z",
     "start_time": "2024-03-09T13:10:25.552544Z"
    }
   },
   "outputs": [],
   "source": [
    "most_team_wickets = balls.groupby([\"bowling_team\"])[[\n",
    "    \"is_wicket\"\n",
    "]].sum().reset_index().sort_values(by=\"is_wicket\", ascending=False)"
   ]
  },
  {
   "cell_type": "code",
   "execution_count": 74,
   "id": "f5b7bb7a",
   "metadata": {
    "ExecuteTime": {
     "end_time": "2024-03-09T13:10:25.567751Z",
     "start_time": "2024-03-09T13:10:25.561197Z"
    }
   },
   "outputs": [
    {
     "data": {
      "text/html": [
       "<div>\n",
       "<style scoped>\n",
       "    .dataframe tbody tr th:only-of-type {\n",
       "        vertical-align: middle;\n",
       "    }\n",
       "\n",
       "    .dataframe tbody tr th {\n",
       "        vertical-align: top;\n",
       "    }\n",
       "\n",
       "    .dataframe thead th {\n",
       "        text-align: right;\n",
       "    }\n",
       "</style>\n",
       "<table border=\"1\" class=\"dataframe\">\n",
       "  <thead>\n",
       "    <tr style=\"text-align: right;\">\n",
       "      <th></th>\n",
       "      <th>bowling_team</th>\n",
       "      <th>is_wicket</th>\n",
       "    </tr>\n",
       "  </thead>\n",
       "  <tbody>\n",
       "    <tr>\n",
       "      <th>4</th>\n",
       "      <td>India</td>\n",
       "      <td>100</td>\n",
       "    </tr>\n",
       "    <tr>\n",
       "      <th>1</th>\n",
       "      <td>Australia</td>\n",
       "      <td>93</td>\n",
       "    </tr>\n",
       "    <tr>\n",
       "      <th>8</th>\n",
       "      <td>South Africa</td>\n",
       "      <td>89</td>\n",
       "    </tr>\n",
       "    <tr>\n",
       "      <th>6</th>\n",
       "      <td>New Zealand</td>\n",
       "      <td>73</td>\n",
       "    </tr>\n",
       "    <tr>\n",
       "      <th>3</th>\n",
       "      <td>England</td>\n",
       "      <td>69</td>\n",
       "    </tr>\n",
       "    <tr>\n",
       "      <th>7</th>\n",
       "      <td>Pakistan</td>\n",
       "      <td>67</td>\n",
       "    </tr>\n",
       "    <tr>\n",
       "      <th>5</th>\n",
       "      <td>Netherlands</td>\n",
       "      <td>66</td>\n",
       "    </tr>\n",
       "    <tr>\n",
       "      <th>0</th>\n",
       "      <td>Afghanistan</td>\n",
       "      <td>61</td>\n",
       "    </tr>\n",
       "    <tr>\n",
       "      <th>9</th>\n",
       "      <td>Sri Lanka</td>\n",
       "      <td>57</td>\n",
       "    </tr>\n",
       "    <tr>\n",
       "      <th>2</th>\n",
       "      <td>Bangladesh</td>\n",
       "      <td>53</td>\n",
       "    </tr>\n",
       "  </tbody>\n",
       "</table>\n",
       "</div>"
      ],
      "text/plain": [
       "   bowling_team  is_wicket\n",
       "4         India        100\n",
       "1     Australia         93\n",
       "8  South Africa         89\n",
       "6   New Zealand         73\n",
       "3       England         69\n",
       "7      Pakistan         67\n",
       "5   Netherlands         66\n",
       "0   Afghanistan         61\n",
       "9     Sri Lanka         57\n",
       "2    Bangladesh         53"
      ]
     },
     "execution_count": 74,
     "metadata": {},
     "output_type": "execute_result"
    }
   ],
   "source": [
    "most_team_wickets"
   ]
  },
  {
   "cell_type": "code",
   "execution_count": 75,
   "id": "f5a817d9",
   "metadata": {
    "ExecuteTime": {
     "end_time": "2024-03-09T13:10:25.728922Z",
     "start_time": "2024-03-09T13:10:25.569761Z"
    }
   },
   "outputs": [
    {
     "data": {
      "image/png": "[encoded data removed]",
      "text/plain": [
       "<Figure size 640x480 with 1 Axes>"
      ]
     },
     "metadata": {},
     "output_type": "display_data"
    }
   ],
   "source": [
    "ax = sns.barplot(x=most_team_wickets[\"bowling_team\"],\n",
    "                 y=most_team_wickets['is_wicket'])"
   ]
  },
  {
   "cell_type": "markdown",
   "id": "585f4a57",
   "metadata": {},
   "source": [
    "### Best Bowling Figure"
   ]
  },
  {
   "cell_type": "code",
   "execution_count": 76,
   "id": "98b36d54",
   "metadata": {
    "ExecuteTime": {
     "end_time": "2024-03-09T13:10:25.898239Z",
     "start_time": "2024-03-09T13:10:25.730898Z"
    }
   },
   "outputs": [],
   "source": [
    "balls[\"is_wicket\"] = balls.apply(\n",
    "    lambda x: 0 if x[\"wicket_type\"] == \"retired hurt\" else x[\"is_wicket\"],\n",
    "    axis=1)"
   ]
  },
  {
   "cell_type": "code",
   "execution_count": 77,
   "id": "d8617a08",
   "metadata": {
    "ExecuteTime": {
     "end_time": "2024-03-09T13:10:25.916721Z",
     "start_time": "2024-03-09T13:10:25.899668Z"
    }
   },
   "outputs": [],
   "source": [
    "without_run_outs = balls[~balls['wicket_type'].isin(['run out'])]\n",
    "without_byes = without_run_outs[~without_run_outs[\"extra_type\"].\n",
    "                                isin([\"legbyes\", \"byes\"])]"
   ]
  },
  {
   "cell_type": "code",
   "execution_count": 78,
   "id": "95c52243",
   "metadata": {
    "ExecuteTime": {
     "end_time": "2024-03-09T13:10:25.951471Z",
     "start_time": "2024-03-09T13:10:25.918331Z"
    }
   },
   "outputs": [],
   "source": [
    "bowling_figure_each_match = without_byes.groupby([\"match_id\", \"bowler\"]).agg({\n",
    "    \"total_runs\":\n",
    "    \"sum\",\n",
    "    \"is_wicket\":\n",
    "    \"sum\"\n",
    "}).reset_index()"
   ]
  },
  {
   "cell_type": "code",
   "execution_count": 79,
   "id": "f187e349",
   "metadata": {
    "ExecuteTime": {
     "end_time": "2024-03-09T13:10:25.957230Z",
     "start_time": "2024-03-09T13:10:25.952475Z"
    }
   },
   "outputs": [],
   "source": [
    "best_bowling_figure = bowling_figure_each_match.sort_values(\n",
    "    by=[\n",
    "        \"is_wicket\",\n",
    "        \"total_runs\",\n",
    "    ], ascending=[False, True])"
   ]
  },
  {
   "cell_type": "code",
   "execution_count": 80,
   "id": "f8613d12",
   "metadata": {
    "ExecuteTime": {
     "end_time": "2024-03-09T13:10:25.962918Z",
     "start_time": "2024-03-09T13:10:25.958236Z"
    }
   },
   "outputs": [],
   "source": [
    "best_bowling_figure[\"figure\"] = best_bowling_figure[\"is_wicket\"].astype(\n",
    "    \"str\") + \"/\" + best_bowling_figure[\"total_runs\"].astype(\"str\")"
   ]
  },
  {
   "cell_type": "code",
   "execution_count": 81,
   "id": "e7d48553",
   "metadata": {
    "ExecuteTime": {
     "end_time": "2024-03-09T13:10:25.972946Z",
     "start_time": "2024-03-09T13:10:25.963923Z"
    }
   },
   "outputs": [
    {
     "data": {
      "text/html": [
       "<div>\n",
       "<style scoped>\n",
       "    .dataframe tbody tr th:only-of-type {\n",
       "        vertical-align: middle;\n",
       "    }\n",
       "\n",
       "    .dataframe tbody tr th {\n",
       "        vertical-align: top;\n",
       "    }\n",
       "\n",
       "    .dataframe thead th {\n",
       "        text-align: right;\n",
       "    }\n",
       "</style>\n",
       "<table border=\"1\" class=\"dataframe\">\n",
       "  <thead>\n",
       "    <tr style=\"text-align: right;\">\n",
       "      <th></th>\n",
       "      <th>match_id</th>\n",
       "      <th>bowler</th>\n",
       "      <th>total_runs</th>\n",
       "      <th>is_wicket</th>\n",
       "      <th>figure</th>\n",
       "    </tr>\n",
       "  </thead>\n",
       "  <tbody>\n",
       "    <tr>\n",
       "      <th>544</th>\n",
       "      <td>287</td>\n",
       "      <td>Mohammed Shami</td>\n",
       "      <td>57</td>\n",
       "      <td>7</td>\n",
       "      <td>7/57</td>\n",
       "    </tr>\n",
       "    <tr>\n",
       "      <th>391</th>\n",
       "      <td>274</td>\n",
       "      <td>Mohammed Shami</td>\n",
       "      <td>18</td>\n",
       "      <td>5</td>\n",
       "      <td>5/18</td>\n",
       "    </tr>\n",
       "    <tr>\n",
       "      <th>440</th>\n",
       "      <td>278</td>\n",
       "      <td>RA Jadeja</td>\n",
       "      <td>33</td>\n",
       "      <td>5</td>\n",
       "      <td>5/33</td>\n",
       "    </tr>\n",
       "    <tr>\n",
       "      <th>217</th>\n",
       "      <td>259</td>\n",
       "      <td>Shaheen Shah Afridi</td>\n",
       "      <td>54</td>\n",
       "      <td>5</td>\n",
       "      <td>5/54</td>\n",
       "    </tr>\n",
       "    <tr>\n",
       "      <th>248</th>\n",
       "      <td>262</td>\n",
       "      <td>Mohammed Shami</td>\n",
       "      <td>54</td>\n",
       "      <td>5</td>\n",
       "      <td>5/54</td>\n",
       "    </tr>\n",
       "    <tr>\n",
       "      <th>...</th>\n",
       "      <td>...</td>\n",
       "      <td>...</td>\n",
       "      <td>...</td>\n",
       "      <td>...</td>\n",
       "      <td>...</td>\n",
       "    </tr>\n",
       "    <tr>\n",
       "      <th>273</th>\n",
       "      <td>264</td>\n",
       "      <td>Mustafizur Rahman</td>\n",
       "      <td>76</td>\n",
       "      <td>0</td>\n",
       "      <td>0/76</td>\n",
       "    </tr>\n",
       "    <tr>\n",
       "      <th>508</th>\n",
       "      <td>284</td>\n",
       "      <td>Nasum Ahmed</td>\n",
       "      <td>85</td>\n",
       "      <td>0</td>\n",
       "      <td>0/85</td>\n",
       "    </tr>\n",
       "    <tr>\n",
       "      <th>319</th>\n",
       "      <td>268</td>\n",
       "      <td>MA Starc</td>\n",
       "      <td>88</td>\n",
       "      <td>0</td>\n",
       "      <td>0/88</td>\n",
       "    </tr>\n",
       "    <tr>\n",
       "      <th>428</th>\n",
       "      <td>277</td>\n",
       "      <td>Shaheen Shah Afridi</td>\n",
       "      <td>90</td>\n",
       "      <td>0</td>\n",
       "      <td>0/90</td>\n",
       "    </tr>\n",
       "    <tr>\n",
       "      <th>529</th>\n",
       "      <td>286</td>\n",
       "      <td>LV van Beek</td>\n",
       "      <td>107</td>\n",
       "      <td>0</td>\n",
       "      <td>0/107</td>\n",
       "    </tr>\n",
       "  </tbody>\n",
       "</table>\n",
       "<p>574 rows × 5 columns</p>\n",
       "</div>"
      ],
      "text/plain": [
       "     match_id               bowler  total_runs  is_wicket figure\n",
       "544       287       Mohammed Shami          57          7   7/57\n",
       "391       274       Mohammed Shami          18          5   5/18\n",
       "440       278            RA Jadeja          33          5   5/33\n",
       "217       259  Shaheen Shah Afridi          54          5   5/54\n",
       "248       262       Mohammed Shami          54          5   5/54\n",
       "..        ...                  ...         ...        ...    ...\n",
       "273       264    Mustafizur Rahman          76          0   0/76\n",
       "508       284          Nasum Ahmed          85          0   0/85\n",
       "319       268             MA Starc          88          0   0/88\n",
       "428       277  Shaheen Shah Afridi          90          0   0/90\n",
       "529       286          LV van Beek         107          0  0/107\n",
       "\n",
       "[574 rows x 5 columns]"
      ]
     },
     "execution_count": 81,
     "metadata": {},
     "output_type": "execute_result"
    }
   ],
   "source": [
    "best_bowling_figure"
   ]
  },
  {
   "cell_type": "markdown",
   "id": "834bc596",
   "metadata": {},
   "source": [
    "### BEst bowling Average"
   ]
  },
  {
   "cell_type": "code",
   "execution_count": 82,
   "id": "7c74d5a0",
   "metadata": {
    "ExecuteTime": {
     "end_time": "2024-03-09T13:10:25.984977Z",
     "start_time": "2024-03-09T13:10:25.976200Z"
    }
   },
   "outputs": [],
   "source": [
    "average_bowling = without_byes.groupby(\"bowler\").agg({\n",
    "    \"total_runs\": \"sum\",\n",
    "    \"is_wicket\": \"sum\"\n",
    "}).reset_index()"
   ]
  },
  {
   "cell_type": "code",
   "execution_count": 83,
   "id": "978a9a3c",
   "metadata": {
    "ExecuteTime": {
     "end_time": "2024-03-09T13:10:25.999142Z",
     "start_time": "2024-03-09T13:10:25.986025Z"
    }
   },
   "outputs": [
    {
     "data": {
      "text/html": [
       "<div>\n",
       "<style scoped>\n",
       "    .dataframe tbody tr th:only-of-type {\n",
       "        vertical-align: middle;\n",
       "    }\n",
       "\n",
       "    .dataframe tbody tr th {\n",
       "        vertical-align: top;\n",
       "    }\n",
       "\n",
       "    .dataframe thead th {\n",
       "        text-align: right;\n",
       "    }\n",
       "</style>\n",
       "<table border=\"1\" class=\"dataframe\">\n",
       "  <thead>\n",
       "    <tr style=\"text-align: right;\">\n",
       "      <th></th>\n",
       "      <th>bowler</th>\n",
       "      <th>total_runs</th>\n",
       "      <th>is_wicket</th>\n",
       "      <th>average</th>\n",
       "    </tr>\n",
       "  </thead>\n",
       "  <tbody>\n",
       "    <tr>\n",
       "      <th>78</th>\n",
       "      <td>RG Sharma</td>\n",
       "      <td>7</td>\n",
       "      <td>1</td>\n",
       "      <td>7.00</td>\n",
       "    </tr>\n",
       "    <tr>\n",
       "      <th>62</th>\n",
       "      <td>Mohammed Shami</td>\n",
       "      <td>257</td>\n",
       "      <td>24</td>\n",
       "      <td>10.71</td>\n",
       "    </tr>\n",
       "    <tr>\n",
       "      <th>100</th>\n",
       "      <td>V Kohli</td>\n",
       "      <td>15</td>\n",
       "      <td>1</td>\n",
       "      <td>15.00</td>\n",
       "    </tr>\n",
       "    <tr>\n",
       "      <th>3</th>\n",
       "      <td>AD Mathews</td>\n",
       "      <td>107</td>\n",
       "      <td>6</td>\n",
       "      <td>17.83</td>\n",
       "    </tr>\n",
       "    <tr>\n",
       "      <th>33</th>\n",
       "      <td>JJ Bumrah</td>\n",
       "      <td>373</td>\n",
       "      <td>20</td>\n",
       "      <td>18.65</td>\n",
       "    </tr>\n",
       "    <tr>\n",
       "      <th>...</th>\n",
       "      <td>...</td>\n",
       "      <td>...</td>\n",
       "      <td>...</td>\n",
       "      <td>...</td>\n",
       "    </tr>\n",
       "    <tr>\n",
       "      <th>45</th>\n",
       "      <td>M Pathirana</td>\n",
       "      <td>185</td>\n",
       "      <td>2</td>\n",
       "      <td>92.50</td>\n",
       "    </tr>\n",
       "    <tr>\n",
       "      <th>20</th>\n",
       "      <td>DN Wellalage</td>\n",
       "      <td>196</td>\n",
       "      <td>2</td>\n",
       "      <td>98.00</td>\n",
       "    </tr>\n",
       "    <tr>\n",
       "      <th>72</th>\n",
       "      <td>PVD Chameera</td>\n",
       "      <td>196</td>\n",
       "      <td>2</td>\n",
       "      <td>98.00</td>\n",
       "    </tr>\n",
       "    <tr>\n",
       "      <th>60</th>\n",
       "      <td>Mohammad Nawaz</td>\n",
       "      <td>223</td>\n",
       "      <td>2</td>\n",
       "      <td>111.50</td>\n",
       "    </tr>\n",
       "    <tr>\n",
       "      <th>87</th>\n",
       "      <td>Shadab Khan</td>\n",
       "      <td>237</td>\n",
       "      <td>2</td>\n",
       "      <td>118.50</td>\n",
       "    </tr>\n",
       "  </tbody>\n",
       "</table>\n",
       "<p>84 rows × 4 columns</p>\n",
       "</div>"
      ],
      "text/plain": [
       "             bowler  total_runs  is_wicket  average\n",
       "78        RG Sharma           7          1     7.00\n",
       "62   Mohammed Shami         257         24    10.71\n",
       "100         V Kohli          15          1    15.00\n",
       "3        AD Mathews         107          6    17.83\n",
       "33        JJ Bumrah         373         20    18.65\n",
       "..              ...         ...        ...      ...\n",
       "45      M Pathirana         185          2    92.50\n",
       "20     DN Wellalage         196          2    98.00\n",
       "72     PVD Chameera         196          2    98.00\n",
       "60   Mohammad Nawaz         223          2   111.50\n",
       "87      Shadab Khan         237          2   118.50\n",
       "\n",
       "[84 rows x 4 columns]"
      ]
     },
     "execution_count": 83,
     "metadata": {},
     "output_type": "execute_result"
    }
   ],
   "source": [
    "average_bowling[\"average\"] = np.round(\n",
    "    average_bowling[\"total_runs\"] / average_bowling[\"is_wicket\"], 2)\n",
    "average_bowling = average_bowling.sort_values(by=\"average\")\n",
    "average_bowling = average_bowling[average_bowling[\"average\"] != np.inf]\n",
    "average_bowling"
   ]
  },
  {
   "cell_type": "code",
   "execution_count": 84,
   "id": "569d3b4f",
   "metadata": {
    "ExecuteTime": {
     "end_time": "2024-03-09T13:10:26.150497Z",
     "start_time": "2024-03-09T13:10:26.001148Z"
    }
   },
   "outputs": [
    {
     "data": {
      "text/plain": [
       "<Axes: xlabel='bowler', ylabel='average'>"
      ]
     },
     "execution_count": 84,
     "metadata": {},
     "output_type": "execute_result"
    },
    {
     "data": {
      "image/png": "[encoded data removed]",
      "text/plain": [
       "<Figure size 640x480 with 1 Axes>"
      ]
     },
     "metadata": {},
     "output_type": "display_data"
    }
   ],
   "source": [
    "sns.barplot(x=average_bowling[\"bowler\"].head(),\n",
    "            y=average_bowling[\"average\"].head())"
   ]
  },
  {
   "cell_type": "markdown",
   "id": "fc4ce9a0",
   "metadata": {},
   "source": [
    "### bowling Strike rate"
   ]
  },
  {
   "cell_type": "code",
   "execution_count": 85,
   "id": "745856c2",
   "metadata": {
    "ExecuteTime": {
     "end_time": "2024-03-09T13:10:26.188736Z",
     "start_time": "2024-03-09T13:10:26.150497Z"
    }
   },
   "outputs": [
    {
     "data": {
      "text/html": [
       "<div>\n",
       "<style scoped>\n",
       "    .dataframe tbody tr th:only-of-type {\n",
       "        vertical-align: middle;\n",
       "    }\n",
       "\n",
       "    .dataframe tbody tr th {\n",
       "        vertical-align: top;\n",
       "    }\n",
       "\n",
       "    .dataframe thead th {\n",
       "        text-align: right;\n",
       "    }\n",
       "</style>\n",
       "<table border=\"1\" class=\"dataframe\">\n",
       "  <thead>\n",
       "    <tr style=\"text-align: right;\">\n",
       "      <th></th>\n",
       "      <th>match_id</th>\n",
       "      <th>bowler</th>\n",
       "      <th>balls</th>\n",
       "      <th>is_wicket</th>\n",
       "      <th>sr</th>\n",
       "    </tr>\n",
       "  </thead>\n",
       "  <tbody>\n",
       "    <tr>\n",
       "      <th>278</th>\n",
       "      <td>265</td>\n",
       "      <td>A Zampa</td>\n",
       "      <td>18</td>\n",
       "      <td>4</td>\n",
       "      <td>4.500000</td>\n",
       "    </tr>\n",
       "    <tr>\n",
       "      <th>391</th>\n",
       "      <td>274</td>\n",
       "      <td>Mohammed Shami</td>\n",
       "      <td>30</td>\n",
       "      <td>5</td>\n",
       "      <td>6.000000</td>\n",
       "    </tr>\n",
       "    <tr>\n",
       "      <th>234</th>\n",
       "      <td>261</td>\n",
       "      <td>G Coetzee</td>\n",
       "      <td>24</td>\n",
       "      <td>3</td>\n",
       "      <td>8.000000</td>\n",
       "    </tr>\n",
       "    <tr>\n",
       "      <th>544</th>\n",
       "      <td>287</td>\n",
       "      <td>Mohammed Shami</td>\n",
       "      <td>59</td>\n",
       "      <td>7</td>\n",
       "      <td>8.428571</td>\n",
       "    </tr>\n",
       "    <tr>\n",
       "      <th>2</th>\n",
       "      <td>242</td>\n",
       "      <td>GD Phillips</td>\n",
       "      <td>18</td>\n",
       "      <td>2</td>\n",
       "      <td>9.000000</td>\n",
       "    </tr>\n",
       "    <tr>\n",
       "      <th>346</th>\n",
       "      <td>270</td>\n",
       "      <td>Mohammed Shami</td>\n",
       "      <td>42</td>\n",
       "      <td>4</td>\n",
       "      <td>10.500000</td>\n",
       "    </tr>\n",
       "    <tr>\n",
       "      <th>440</th>\n",
       "      <td>278</td>\n",
       "      <td>RA Jadeja</td>\n",
       "      <td>54</td>\n",
       "      <td>5</td>\n",
       "      <td>10.800000</td>\n",
       "    </tr>\n",
       "    <tr>\n",
       "      <th>333</th>\n",
       "      <td>269</td>\n",
       "      <td>PA van Meekeren</td>\n",
       "      <td>44</td>\n",
       "      <td>4</td>\n",
       "      <td>11.000000</td>\n",
       "    </tr>\n",
       "    <tr>\n",
       "      <th>67</th>\n",
       "      <td>247</td>\n",
       "      <td>MJ Santner</td>\n",
       "      <td>60</td>\n",
       "      <td>5</td>\n",
       "      <td>12.000000</td>\n",
       "    </tr>\n",
       "    <tr>\n",
       "      <th>217</th>\n",
       "      <td>259</td>\n",
       "      <td>Shaheen Shah Afridi</td>\n",
       "      <td>60</td>\n",
       "      <td>5</td>\n",
       "      <td>12.000000</td>\n",
       "    </tr>\n",
       "    <tr>\n",
       "      <th>248</th>\n",
       "      <td>262</td>\n",
       "      <td>Mohammed Shami</td>\n",
       "      <td>60</td>\n",
       "      <td>5</td>\n",
       "      <td>12.000000</td>\n",
       "    </tr>\n",
       "    <tr>\n",
       "      <th>386</th>\n",
       "      <td>274</td>\n",
       "      <td>D Madushanka</td>\n",
       "      <td>60</td>\n",
       "      <td>5</td>\n",
       "      <td>12.000000</td>\n",
       "    </tr>\n",
       "    <tr>\n",
       "      <th>78</th>\n",
       "      <td>248</td>\n",
       "      <td>Mahedi Hasan</td>\n",
       "      <td>48</td>\n",
       "      <td>4</td>\n",
       "      <td>12.000000</td>\n",
       "    </tr>\n",
       "    <tr>\n",
       "      <th>159</th>\n",
       "      <td>255</td>\n",
       "      <td>A Zampa</td>\n",
       "      <td>48</td>\n",
       "      <td>4</td>\n",
       "      <td>12.000000</td>\n",
       "    </tr>\n",
       "    <tr>\n",
       "      <th>284</th>\n",
       "      <td>265</td>\n",
       "      <td>MR Marsh</td>\n",
       "      <td>24</td>\n",
       "      <td>2</td>\n",
       "      <td>12.000000</td>\n",
       "    </tr>\n",
       "  </tbody>\n",
       "</table>\n",
       "</div>"
      ],
      "text/plain": [
       "     match_id               bowler  balls  is_wicket         sr\n",
       "278       265              A Zampa     18          4   4.500000\n",
       "391       274       Mohammed Shami     30          5   6.000000\n",
       "234       261            G Coetzee     24          3   8.000000\n",
       "544       287       Mohammed Shami     59          7   8.428571\n",
       "2         242          GD Phillips     18          2   9.000000\n",
       "346       270       Mohammed Shami     42          4  10.500000\n",
       "440       278            RA Jadeja     54          5  10.800000\n",
       "333       269      PA van Meekeren     44          4  11.000000\n",
       "67        247           MJ Santner     60          5  12.000000\n",
       "217       259  Shaheen Shah Afridi     60          5  12.000000\n",
       "248       262       Mohammed Shami     60          5  12.000000\n",
       "386       274         D Madushanka     60          5  12.000000\n",
       "78        248         Mahedi Hasan     48          4  12.000000\n",
       "159       255              A Zampa     48          4  12.000000\n",
       "284       265             MR Marsh     24          2  12.000000"
      ]
     },
     "execution_count": 85,
     "metadata": {},
     "output_type": "execute_result"
    }
   ],
   "source": [
    "fair_deliveries = balls[balls['extra_type'].isin(\n",
    "    [\"fair delivery\", \"byes\", \"legbyes\", \"penalty\"])]\n",
    "total_wickets = without_run_outs.groupby([\"match_id\", \"bowler\"\n",
    "                                          ])[\"is_wicket\"].sum().reset_index()\n",
    "strikerate_inn = fair_deliveries.groupby([\"match_id\", \"bowler\"]).agg({\n",
    "    \"balls\":\n",
    "    \"count\"\n",
    "}).reset_index()\n",
    "strikerate_inn = strikerate_inn.merge(total_wickets,\n",
    "                                      on=[\"match_id\", \"bowler\"],\n",
    "                                      how=\"left\")\n",
    "strikerate_inn[\"sr\"] = strikerate_inn[\"balls\"] / strikerate_inn[\"is_wicket\"]\n",
    "strikerate_inn = strikerate_inn[(~strikerate_inn['sr'].isin([np.inf])) & (strikerate_inn['is_wicket'] > 1)].sort_values(by='sr').\\\n",
    "sort_values(by =[\"sr\", \"is_wicket\", \"match_id\"], ascending = [True, False, True]).head(15)\n",
    "strikerate_inn"
   ]
  },
  {
   "cell_type": "markdown",
   "id": "c361d1f2",
   "metadata": {},
   "source": [
    "### strike rate overall"
   ]
  },
  {
   "cell_type": "code",
   "execution_count": 86,
   "id": "f1d52b5c",
   "metadata": {
    "ExecuteTime": {
     "end_time": "2024-03-09T13:10:26.222759Z",
     "start_time": "2024-03-09T13:10:26.192142Z"
    }
   },
   "outputs": [
    {
     "data": {
      "text/html": [
       "<div>\n",
       "<style scoped>\n",
       "    .dataframe tbody tr th:only-of-type {\n",
       "        vertical-align: middle;\n",
       "    }\n",
       "\n",
       "    .dataframe tbody tr th {\n",
       "        vertical-align: top;\n",
       "    }\n",
       "\n",
       "    .dataframe thead th {\n",
       "        text-align: right;\n",
       "    }\n",
       "</style>\n",
       "<table border=\"1\" class=\"dataframe\">\n",
       "  <thead>\n",
       "    <tr style=\"text-align: right;\">\n",
       "      <th></th>\n",
       "      <th>bowler</th>\n",
       "      <th>balls</th>\n",
       "      <th>is_wicket</th>\n",
       "      <th>sr</th>\n",
       "    </tr>\n",
       "  </thead>\n",
       "  <tbody>\n",
       "    <tr>\n",
       "      <th>78</th>\n",
       "      <td>RG Sharma</td>\n",
       "      <td>5</td>\n",
       "      <td>1</td>\n",
       "      <td>5.000000</td>\n",
       "    </tr>\n",
       "    <tr>\n",
       "      <th>62</th>\n",
       "      <td>Mohammed Shami</td>\n",
       "      <td>293</td>\n",
       "      <td>24</td>\n",
       "      <td>12.208333</td>\n",
       "    </tr>\n",
       "    <tr>\n",
       "      <th>22</th>\n",
       "      <td>G Coetzee</td>\n",
       "      <td>381</td>\n",
       "      <td>20</td>\n",
       "      <td>19.050000</td>\n",
       "    </tr>\n",
       "    <tr>\n",
       "      <th>25</th>\n",
       "      <td>HH Pandya</td>\n",
       "      <td>99</td>\n",
       "      <td>5</td>\n",
       "      <td>19.800000</td>\n",
       "    </tr>\n",
       "    <tr>\n",
       "      <th>97</th>\n",
       "      <td>Tanzim Hasan Sakib</td>\n",
       "      <td>60</td>\n",
       "      <td>3</td>\n",
       "      <td>20.000000</td>\n",
       "    </tr>\n",
       "    <tr>\n",
       "      <th>79</th>\n",
       "      <td>RJW Topley</td>\n",
       "      <td>166</td>\n",
       "      <td>8</td>\n",
       "      <td>20.750000</td>\n",
       "    </tr>\n",
       "    <tr>\n",
       "      <th>100</th>\n",
       "      <td>V Kohli</td>\n",
       "      <td>21</td>\n",
       "      <td>1</td>\n",
       "      <td>21.000000</td>\n",
       "    </tr>\n",
       "    <tr>\n",
       "      <th>13</th>\n",
       "      <td>CBRLS Kumara</td>\n",
       "      <td>66</td>\n",
       "      <td>3</td>\n",
       "      <td>22.000000</td>\n",
       "    </tr>\n",
       "    <tr>\n",
       "      <th>3</th>\n",
       "      <td>AD Mathews</td>\n",
       "      <td>133</td>\n",
       "      <td>6</td>\n",
       "      <td>22.166667</td>\n",
       "    </tr>\n",
       "    <tr>\n",
       "      <th>16</th>\n",
       "      <td>D Madushanka</td>\n",
       "      <td>470</td>\n",
       "      <td>21</td>\n",
       "      <td>22.380952</td>\n",
       "    </tr>\n",
       "    <tr>\n",
       "      <th>61</th>\n",
       "      <td>Mohammad Wasim</td>\n",
       "      <td>229</td>\n",
       "      <td>10</td>\n",
       "      <td>22.900000</td>\n",
       "    </tr>\n",
       "    <tr>\n",
       "      <th>56</th>\n",
       "      <td>Mahedi Hasan</td>\n",
       "      <td>144</td>\n",
       "      <td>6</td>\n",
       "      <td>24.000000</td>\n",
       "    </tr>\n",
       "    <tr>\n",
       "      <th>44</th>\n",
       "      <td>M Jansen</td>\n",
       "      <td>414</td>\n",
       "      <td>17</td>\n",
       "      <td>24.352941</td>\n",
       "    </tr>\n",
       "    <tr>\n",
       "      <th>1</th>\n",
       "      <td>A Zampa</td>\n",
       "      <td>576</td>\n",
       "      <td>23</td>\n",
       "      <td>25.043478</td>\n",
       "    </tr>\n",
       "    <tr>\n",
       "      <th>9</th>\n",
       "      <td>BFW de Leede</td>\n",
       "      <td>402</td>\n",
       "      <td>16</td>\n",
       "      <td>25.125000</td>\n",
       "    </tr>\n",
       "  </tbody>\n",
       "</table>\n",
       "</div>"
      ],
      "text/plain": [
       "                 bowler  balls  is_wicket         sr\n",
       "78            RG Sharma      5          1   5.000000\n",
       "62       Mohammed Shami    293         24  12.208333\n",
       "22            G Coetzee    381         20  19.050000\n",
       "25            HH Pandya     99          5  19.800000\n",
       "97   Tanzim Hasan Sakib     60          3  20.000000\n",
       "79           RJW Topley    166          8  20.750000\n",
       "100             V Kohli     21          1  21.000000\n",
       "13         CBRLS Kumara     66          3  22.000000\n",
       "3            AD Mathews    133          6  22.166667\n",
       "16         D Madushanka    470         21  22.380952\n",
       "61       Mohammad Wasim    229         10  22.900000\n",
       "56         Mahedi Hasan    144          6  24.000000\n",
       "44             M Jansen    414         17  24.352941\n",
       "1               A Zampa    576         23  25.043478\n",
       "9          BFW de Leede    402         16  25.125000"
      ]
     },
     "execution_count": 86,
     "metadata": {},
     "output_type": "execute_result"
    }
   ],
   "source": [
    "total_wickets1 = without_run_outs.groupby([\"bowler\"\n",
    "                                           ])[\"is_wicket\"].sum().reset_index()\n",
    "fair_deliveries1 = balls[balls['extra_type'].isin(\n",
    "    [\"fair delivery\", \"byes\", \"legbyes\", \"penalty\"])]\n",
    "strikerate_tourney = fair_deliveries1.groupby([\"bowler\"]).agg({\n",
    "    \"balls\": \"count\"\n",
    "}).reset_index()\n",
    "strikerate_tourney = strikerate_tourney.merge(total_wickets1,\n",
    "                                              on=[\"bowler\"],\n",
    "                                              how=\"left\")\n",
    "strikerate_tourney[\n",
    "    \"sr\"] = strikerate_tourney[\"balls\"] / strikerate_tourney[\"is_wicket\"]\n",
    "strikerate_tourney = strikerate_tourney[(~strikerate_tourney['sr'].isin([np.inf]))].sort_values(by='sr').\\\n",
    "sort_values(by =[\"sr\", \"is_wicket\", ], ascending = [True, False, ]).head(15)\n",
    "strikerate_tourney"
   ]
  },
  {
   "cell_type": "markdown",
   "id": "07980778",
   "metadata": {},
   "source": [
    "### Economy Innings"
   ]
  },
  {
   "cell_type": "code",
   "execution_count": 92,
   "id": "df3158ca",
   "metadata": {
    "ExecuteTime": {
     "end_time": "2024-03-09T13:20:52.681918Z",
     "start_time": "2024-03-09T13:20:52.616357Z"
    }
   },
   "outputs": [
    {
     "data": {
      "text/html": [
       "<div>\n",
       "<style scoped>\n",
       "    .dataframe tbody tr th:only-of-type {\n",
       "        vertical-align: middle;\n",
       "    }\n",
       "\n",
       "    .dataframe tbody tr th {\n",
       "        vertical-align: top;\n",
       "    }\n",
       "\n",
       "    .dataframe thead th {\n",
       "        text-align: right;\n",
       "    }\n",
       "</style>\n",
       "<table border=\"1\" class=\"dataframe\">\n",
       "  <thead>\n",
       "    <tr style=\"text-align: right;\">\n",
       "      <th></th>\n",
       "      <th>match_id</th>\n",
       "      <th>bowler</th>\n",
       "      <th>balls</th>\n",
       "      <th>is_wicket</th>\n",
       "      <th>sr</th>\n",
       "      <th>total_runs</th>\n",
       "      <th>economy</th>\n",
       "    </tr>\n",
       "  </thead>\n",
       "  <tbody>\n",
       "    <tr>\n",
       "      <th>0</th>\n",
       "      <td>265</td>\n",
       "      <td>A Zampa</td>\n",
       "      <td>18</td>\n",
       "      <td>4</td>\n",
       "      <td>4.500000</td>\n",
       "      <td>8</td>\n",
       "      <td>2.666667</td>\n",
       "    </tr>\n",
       "    <tr>\n",
       "      <th>7</th>\n",
       "      <td>269</td>\n",
       "      <td>PA van Meekeren</td>\n",
       "      <td>44</td>\n",
       "      <td>4</td>\n",
       "      <td>11.000000</td>\n",
       "      <td>23</td>\n",
       "      <td>3.136364</td>\n",
       "    </tr>\n",
       "    <tr>\n",
       "      <th>5</th>\n",
       "      <td>270</td>\n",
       "      <td>Mohammed Shami</td>\n",
       "      <td>42</td>\n",
       "      <td>4</td>\n",
       "      <td>10.500000</td>\n",
       "      <td>22</td>\n",
       "      <td>3.142857</td>\n",
       "    </tr>\n",
       "    <tr>\n",
       "      <th>1</th>\n",
       "      <td>274</td>\n",
       "      <td>Mohammed Shami</td>\n",
       "      <td>30</td>\n",
       "      <td>5</td>\n",
       "      <td>6.000000</td>\n",
       "      <td>18</td>\n",
       "      <td>3.600000</td>\n",
       "    </tr>\n",
       "    <tr>\n",
       "      <th>6</th>\n",
       "      <td>278</td>\n",
       "      <td>RA Jadeja</td>\n",
       "      <td>54</td>\n",
       "      <td>5</td>\n",
       "      <td>10.800000</td>\n",
       "      <td>33</td>\n",
       "      <td>3.666667</td>\n",
       "    </tr>\n",
       "    <tr>\n",
       "      <th>14</th>\n",
       "      <td>265</td>\n",
       "      <td>MR Marsh</td>\n",
       "      <td>24</td>\n",
       "      <td>2</td>\n",
       "      <td>12.000000</td>\n",
       "      <td>19</td>\n",
       "      <td>4.750000</td>\n",
       "    </tr>\n",
       "    <tr>\n",
       "      <th>9</th>\n",
       "      <td>259</td>\n",
       "      <td>Shaheen Shah Afridi</td>\n",
       "      <td>60</td>\n",
       "      <td>5</td>\n",
       "      <td>12.000000</td>\n",
       "      <td>54</td>\n",
       "      <td>5.400000</td>\n",
       "    </tr>\n",
       "    <tr>\n",
       "      <th>10</th>\n",
       "      <td>262</td>\n",
       "      <td>Mohammed Shami</td>\n",
       "      <td>60</td>\n",
       "      <td>5</td>\n",
       "      <td>12.000000</td>\n",
       "      <td>54</td>\n",
       "      <td>5.400000</td>\n",
       "    </tr>\n",
       "    <tr>\n",
       "      <th>4</th>\n",
       "      <td>242</td>\n",
       "      <td>GD Phillips</td>\n",
       "      <td>18</td>\n",
       "      <td>2</td>\n",
       "      <td>9.000000</td>\n",
       "      <td>17</td>\n",
       "      <td>5.666667</td>\n",
       "    </tr>\n",
       "    <tr>\n",
       "      <th>3</th>\n",
       "      <td>287</td>\n",
       "      <td>Mohammed Shami</td>\n",
       "      <td>59</td>\n",
       "      <td>7</td>\n",
       "      <td>8.428571</td>\n",
       "      <td>57</td>\n",
       "      <td>5.796610</td>\n",
       "    </tr>\n",
       "    <tr>\n",
       "      <th>13</th>\n",
       "      <td>255</td>\n",
       "      <td>A Zampa</td>\n",
       "      <td>48</td>\n",
       "      <td>4</td>\n",
       "      <td>12.000000</td>\n",
       "      <td>47</td>\n",
       "      <td>5.875000</td>\n",
       "    </tr>\n",
       "    <tr>\n",
       "      <th>8</th>\n",
       "      <td>247</td>\n",
       "      <td>MJ Santner</td>\n",
       "      <td>60</td>\n",
       "      <td>5</td>\n",
       "      <td>12.000000</td>\n",
       "      <td>59</td>\n",
       "      <td>5.900000</td>\n",
       "    </tr>\n",
       "    <tr>\n",
       "      <th>11</th>\n",
       "      <td>274</td>\n",
       "      <td>D Madushanka</td>\n",
       "      <td>60</td>\n",
       "      <td>5</td>\n",
       "      <td>12.000000</td>\n",
       "      <td>80</td>\n",
       "      <td>8.000000</td>\n",
       "    </tr>\n",
       "    <tr>\n",
       "      <th>2</th>\n",
       "      <td>261</td>\n",
       "      <td>G Coetzee</td>\n",
       "      <td>24</td>\n",
       "      <td>3</td>\n",
       "      <td>8.000000</td>\n",
       "      <td>35</td>\n",
       "      <td>8.750000</td>\n",
       "    </tr>\n",
       "    <tr>\n",
       "      <th>12</th>\n",
       "      <td>248</td>\n",
       "      <td>Mahedi Hasan</td>\n",
       "      <td>48</td>\n",
       "      <td>4</td>\n",
       "      <td>12.000000</td>\n",
       "      <td>71</td>\n",
       "      <td>8.875000</td>\n",
       "    </tr>\n",
       "  </tbody>\n",
       "</table>\n",
       "</div>"
      ],
      "text/plain": [
       "    match_id               bowler  balls  is_wicket         sr  total_runs  \\\n",
       "0        265              A Zampa     18          4   4.500000           8   \n",
       "7        269      PA van Meekeren     44          4  11.000000          23   \n",
       "5        270       Mohammed Shami     42          4  10.500000          22   \n",
       "1        274       Mohammed Shami     30          5   6.000000          18   \n",
       "6        278            RA Jadeja     54          5  10.800000          33   \n",
       "14       265             MR Marsh     24          2  12.000000          19   \n",
       "9        259  Shaheen Shah Afridi     60          5  12.000000          54   \n",
       "10       262       Mohammed Shami     60          5  12.000000          54   \n",
       "4        242          GD Phillips     18          2   9.000000          17   \n",
       "3        287       Mohammed Shami     59          7   8.428571          57   \n",
       "13       255              A Zampa     48          4  12.000000          47   \n",
       "8        247           MJ Santner     60          5  12.000000          59   \n",
       "11       274         D Madushanka     60          5  12.000000          80   \n",
       "2        261            G Coetzee     24          3   8.000000          35   \n",
       "12       248         Mahedi Hasan     48          4  12.000000          71   \n",
       "\n",
       "     economy  \n",
       "0   2.666667  \n",
       "7   3.136364  \n",
       "5   3.142857  \n",
       "1   3.600000  \n",
       "6   3.666667  \n",
       "14  4.750000  \n",
       "9   5.400000  \n",
       "10  5.400000  \n",
       "4   5.666667  \n",
       "3   5.796610  \n",
       "13  5.875000  \n",
       "8   5.900000  \n",
       "11  8.000000  \n",
       "2   8.750000  \n",
       "12  8.875000  "
      ]
     },
     "execution_count": 92,
     "metadata": {},
     "output_type": "execute_result"
    }
   ],
   "source": [
    "withput_byes = balls[(~balls[\"extra_type\"].isin([\"byes\", \"legbyes\"]))]\n",
    "total_runs_bowlers = withput_byes.groupby([\"match_id\", \"bowler\"])[\"total_runs\"].sum().reset_index()\n",
    "bowl_stats = strikerate_inn.merge(total_runs_bowlers,on=[\"match_id\", \"bowler\"],)\n",
    "bowl_stats[\"economy\"] = bowl_stats[\"total_runs\"] / (bowl_stats[\"balls\"] / 6)\n",
    "economy = bowl_stats[bowl_stats[\"is_wicket\"] > 0]\n",
    "economy = economy.sort_values(by=\"economy\")\n",
    "economy"
   ]
  },
  {
   "cell_type": "markdown",
   "id": "03a0a4b4",
   "metadata": {},
   "source": [
    "### Economy Tourney"
   ]
  },
  {
   "cell_type": "code",
   "execution_count": 45,
   "id": "6c0ca7ba",
   "metadata": {
    "ExecuteTime": {
     "end_time": "2024-03-01T11:19:55.331010Z",
     "start_time": "2024-03-01T11:19:55.313753Z"
    }
   },
   "outputs": [
    {
     "data": {
      "text/html": [
       "<div>\n",
       "<style scoped>\n",
       "    .dataframe tbody tr th:only-of-type {\n",
       "        vertical-align: middle;\n",
       "    }\n",
       "\n",
       "    .dataframe tbody tr th {\n",
       "        vertical-align: top;\n",
       "    }\n",
       "\n",
       "    .dataframe thead th {\n",
       "        text-align: right;\n",
       "    }\n",
       "</style>\n",
       "<table border=\"1\" class=\"dataframe\">\n",
       "  <thead>\n",
       "    <tr style=\"text-align: right;\">\n",
       "      <th></th>\n",
       "      <th>bowler</th>\n",
       "      <th>balls</th>\n",
       "      <th>is_wicket</th>\n",
       "      <th>sr</th>\n",
       "      <th>total_runs</th>\n",
       "      <th>economy</th>\n",
       "    </tr>\n",
       "  </thead>\n",
       "  <tbody>\n",
       "    <tr>\n",
       "      <th>73</th>\n",
       "      <td>R Ashwin</td>\n",
       "      <td>60</td>\n",
       "      <td>1</td>\n",
       "      <td>60.000000</td>\n",
       "      <td>34</td>\n",
       "      <td>3.400000</td>\n",
       "    </tr>\n",
       "    <tr>\n",
       "      <th>33</th>\n",
       "      <td>JJ Bumrah</td>\n",
       "      <td>551</td>\n",
       "      <td>20</td>\n",
       "      <td>27.550000</td>\n",
       "      <td>373</td>\n",
       "      <td>4.061706</td>\n",
       "    </tr>\n",
       "    <tr>\n",
       "      <th>59</th>\n",
       "      <td>Mohammad Nabi</td>\n",
       "      <td>369</td>\n",
       "      <td>8</td>\n",
       "      <td>46.125000</td>\n",
       "      <td>254</td>\n",
       "      <td>4.130081</td>\n",
       "    </tr>\n",
       "    <tr>\n",
       "      <th>36</th>\n",
       "      <td>KA Maharaj</td>\n",
       "      <td>534</td>\n",
       "      <td>15</td>\n",
       "      <td>35.600000</td>\n",
       "      <td>370</td>\n",
       "      <td>4.157303</td>\n",
       "    </tr>\n",
       "    <tr>\n",
       "      <th>76</th>\n",
       "      <td>RA Jadeja</td>\n",
       "      <td>561</td>\n",
       "      <td>16</td>\n",
       "      <td>35.062500</td>\n",
       "      <td>398</td>\n",
       "      <td>4.256684</td>\n",
       "    </tr>\n",
       "    <tr>\n",
       "      <th>100</th>\n",
       "      <td>V Kohli</td>\n",
       "      <td>21</td>\n",
       "      <td>1</td>\n",
       "      <td>21.000000</td>\n",
       "      <td>15</td>\n",
       "      <td>4.285714</td>\n",
       "    </tr>\n",
       "    <tr>\n",
       "      <th>38</th>\n",
       "      <td>Kuldeep Yadav</td>\n",
       "      <td>571</td>\n",
       "      <td>15</td>\n",
       "      <td>38.066667</td>\n",
       "      <td>424</td>\n",
       "      <td>4.455342</td>\n",
       "    </tr>\n",
       "    <tr>\n",
       "      <th>81</th>\n",
       "      <td>Rashid Khan</td>\n",
       "      <td>519</td>\n",
       "      <td>11</td>\n",
       "      <td>47.181818</td>\n",
       "      <td>388</td>\n",
       "      <td>4.485549</td>\n",
       "    </tr>\n",
       "    <tr>\n",
       "      <th>4</th>\n",
       "      <td>AK Markram</td>\n",
       "      <td>111</td>\n",
       "      <td>1</td>\n",
       "      <td>111.000000</td>\n",
       "      <td>85</td>\n",
       "      <td>4.594595</td>\n",
       "    </tr>\n",
       "    <tr>\n",
       "      <th>69</th>\n",
       "      <td>Noor Ahmad</td>\n",
       "      <td>228</td>\n",
       "      <td>5</td>\n",
       "      <td>45.600000</td>\n",
       "      <td>182</td>\n",
       "      <td>4.789474</td>\n",
       "    </tr>\n",
       "    <tr>\n",
       "      <th>96</th>\n",
       "      <td>TM Head</td>\n",
       "      <td>126</td>\n",
       "      <td>2</td>\n",
       "      <td>63.000000</td>\n",
       "      <td>101</td>\n",
       "      <td>4.809524</td>\n",
       "    </tr>\n",
       "    <tr>\n",
       "      <th>24</th>\n",
       "      <td>GJ Maxwell</td>\n",
       "      <td>411</td>\n",
       "      <td>6</td>\n",
       "      <td>68.500000</td>\n",
       "      <td>330</td>\n",
       "      <td>4.817518</td>\n",
       "    </tr>\n",
       "    <tr>\n",
       "      <th>34</th>\n",
       "      <td>JR Hazlewood</td>\n",
       "      <td>559</td>\n",
       "      <td>16</td>\n",
       "      <td>34.937500</td>\n",
       "      <td>449</td>\n",
       "      <td>4.819320</td>\n",
       "    </tr>\n",
       "    <tr>\n",
       "      <th>3</th>\n",
       "      <td>AD Mathews</td>\n",
       "      <td>133</td>\n",
       "      <td>6</td>\n",
       "      <td>22.166667</td>\n",
       "      <td>107</td>\n",
       "      <td>4.827068</td>\n",
       "    </tr>\n",
       "    <tr>\n",
       "      <th>52</th>\n",
       "      <td>MJ Santner</td>\n",
       "      <td>556</td>\n",
       "      <td>16</td>\n",
       "      <td>34.750000</td>\n",
       "      <td>449</td>\n",
       "      <td>4.845324</td>\n",
       "    </tr>\n",
       "  </tbody>\n",
       "</table>\n",
       "</div>"
      ],
      "text/plain": [
       "            bowler  balls  is_wicket          sr  total_runs   economy\n",
       "73        R Ashwin     60          1   60.000000          34  3.400000\n",
       "33       JJ Bumrah    551         20   27.550000         373  4.061706\n",
       "59   Mohammad Nabi    369          8   46.125000         254  4.130081\n",
       "36      KA Maharaj    534         15   35.600000         370  4.157303\n",
       "76       RA Jadeja    561         16   35.062500         398  4.256684\n",
       "100        V Kohli     21          1   21.000000          15  4.285714\n",
       "38   Kuldeep Yadav    571         15   38.066667         424  4.455342\n",
       "81     Rashid Khan    519         11   47.181818         388  4.485549\n",
       "4       AK Markram    111          1  111.000000          85  4.594595\n",
       "69      Noor Ahmad    228          5   45.600000         182  4.789474\n",
       "96         TM Head    126          2   63.000000         101  4.809524\n",
       "24      GJ Maxwell    411          6   68.500000         330  4.817518\n",
       "34    JR Hazlewood    559         16   34.937500         449  4.819320\n",
       "3       AD Mathews    133          6   22.166667         107  4.827068\n",
       "52      MJ Santner    556         16   34.750000         449  4.845324"
      ]
     },
     "execution_count": 45,
     "metadata": {},
     "output_type": "execute_result"
    }
   ],
   "source": [
    "    total_runs_bowlers1 = withput_byes.groupby(\n",
    "        [\"bowler\"])[\"total_runs\"].sum().reset_index()\n",
    "    bowl_stats1 = strikerate_tourney.merge(\n",
    "        total_runs_bowlers1,\n",
    "        on=[\"bowler\"],\n",
    "    )\n",
    "    bowl_stats1[\"economy\"] = bowl_stats1[\"total_runs\"] / (bowl_stats1[\"balls\"] / 6)\n",
    "    economy1 = bowl_stats1[bowl_stats1[\"is_wicket\"] > 0]\n",
    "    economy1.sort_values(by=\"economy\").head(15)"
   ]
  },
  {
   "cell_type": "markdown",
   "id": "be14cfcd",
   "metadata": {},
   "source": [
    "### most maiden"
   ]
  },
  {
   "cell_type": "code",
   "execution_count": 46,
   "id": "d6c612c8",
   "metadata": {
    "ExecuteTime": {
     "end_time": "2024-03-01T11:19:55.348033Z",
     "start_time": "2024-03-01T11:19:55.332015Z"
    }
   },
   "outputs": [],
   "source": [
    "conceded_runs = balls[(balls[\"extra_type\"] != \"legbyes\")\n",
    "                      & (balls[\"extra_type\"] != \"byes\") &\n",
    "                      (balls[\"extra_type\"] != \"penalty\")]"
   ]
  },
  {
   "cell_type": "code",
   "execution_count": 47,
   "id": "e5be40a6",
   "metadata": {
    "ExecuteTime": {
     "end_time": "2024-03-01T11:19:55.359212Z",
     "start_time": "2024-03-01T11:19:55.349040Z"
    }
   },
   "outputs": [],
   "source": [
    "runs = conceded_runs.groupby([\"match_id\", \"over_num\",\n",
    "                              \"bowler\"])[\"total_runs\"].sum().reset_index()"
   ]
  },
  {
   "cell_type": "code",
   "execution_count": 48,
   "id": "0d017c65",
   "metadata": {
    "ExecuteTime": {
     "end_time": "2024-03-01T11:19:55.368458Z",
     "start_time": "2024-03-01T11:19:55.361219Z"
    }
   },
   "outputs": [
    {
     "data": {
      "text/plain": [
       "bowler\n",
       "JR Hazlewood           9\n",
       "JJ Bumrah              9\n",
       "K Rabada               8\n",
       "A Dutt                 6\n",
       "Mohammed Siraj         6\n",
       "L Ngidi                6\n",
       "DJ Willey              6\n",
       "TA Boult               6\n",
       "MJ Henry               5\n",
       "RA Jadeja              4\n",
       "D Madushanka           4\n",
       "Mohammed Shami         4\n",
       "Mohammad Nabi          4\n",
       "MJ Santner             4\n",
       "Shoriful Islam         4\n",
       "PVD Chameera           3\n",
       "Mustafizur Rahman      3\n",
       "SM Curran              3\n",
       "Mohammad Wasim         3\n",
       "Mehedi Hasan Miraz     3\n",
       "Shaheen Shah Afridi    3\n",
       "M Jansen               3\n",
       "LH Ferguson            3\n",
       "Taskin Ahmed           3\n",
       "Kuldeep Yadav          3\n",
       "M Theekshana           2\n",
       "Rashid Khan            2\n",
       "PA van Meekeren        2\n",
       "CN Ackermann           2\n",
       "Mujeeb Ur Rahman       2\n",
       "CR Woakes              2\n",
       "Fazalhaq Farooqi       2\n",
       "RJW Topley             2\n",
       "Hasan Ali              2\n",
       "MA Starc               2\n",
       "AK Markram             2\n",
       "AD Mathews             2\n",
       "CAK Rajitha            1\n",
       "C Karunaratne          1\n",
       "R Ravindra             1\n",
       "Azmatullah Omarzai     1\n",
       "AU Rashid              1\n",
       "Shakib Al Hasan        1\n",
       "R Klein                1\n",
       "R Ashwin               1\n",
       "LB Williams            1\n",
       "PJ Cummins             1\n",
       "Noor Ahmad             1\n",
       "G Coetzee              1\n",
       "GD Phillips            1\n",
       "GJ Maxwell             1\n",
       "Haris Rauf             1\n",
       "MA Wood                1\n",
       "A Zampa                1\n",
       "KA Maharaj             1\n",
       "LV van Beek            1\n",
       "LS Livingstone         1\n",
       "Naveen-ul-Haq          1\n",
       "Name: total_runs, dtype: int64"
      ]
     },
     "execution_count": 48,
     "metadata": {},
     "output_type": "execute_result"
    }
   ],
   "source": [
    "runs[runs[\"total_runs\"] == 0].groupby(\n",
    "    [\"bowler\"])[\"total_runs\"].count().sort_values(ascending=False)"
   ]
  },
  {
   "cell_type": "markdown",
   "id": "12f05025",
   "metadata": {},
   "source": [
    "## OVERALL STATS"
   ]
  },
  {
   "cell_type": "code",
   "execution_count": 22,
   "id": "9b286ab0",
   "metadata": {
    "ExecuteTime": {
     "end_time": "2024-03-09T11:47:42.801937Z",
     "start_time": "2024-03-09T11:47:42.752899Z"
    }
   },
   "outputs": [
    {
     "data": {
      "text/html": [
       "<div>\n",
       "<style scoped>\n",
       "    .dataframe tbody tr th:only-of-type {\n",
       "        vertical-align: middle;\n",
       "    }\n",
       "\n",
       "    .dataframe tbody tr th {\n",
       "        vertical-align: top;\n",
       "    }\n",
       "\n",
       "    .dataframe thead th {\n",
       "        text-align: right;\n",
       "    }\n",
       "</style>\n",
       "<table border=\"1\" class=\"dataframe\">\n",
       "  <thead>\n",
       "    <tr style=\"text-align: right;\">\n",
       "      <th></th>\n",
       "      <th>match_id</th>\n",
       "      <th>batting_team</th>\n",
       "      <th>batsmen</th>\n",
       "      <th>batsmen_runs</th>\n",
       "    </tr>\n",
       "  </thead>\n",
       "  <tbody>\n",
       "    <tr>\n",
       "      <th>0</th>\n",
       "      <td>242</td>\n",
       "      <td>England</td>\n",
       "      <td>AU Rashid</td>\n",
       "      <td>15</td>\n",
       "    </tr>\n",
       "    <tr>\n",
       "      <th>1</th>\n",
       "      <td>242</td>\n",
       "      <td>England</td>\n",
       "      <td>CR Woakes</td>\n",
       "      <td>11</td>\n",
       "    </tr>\n",
       "    <tr>\n",
       "      <th>2</th>\n",
       "      <td>242</td>\n",
       "      <td>England</td>\n",
       "      <td>DJ Malan</td>\n",
       "      <td>14</td>\n",
       "    </tr>\n",
       "    <tr>\n",
       "      <th>3</th>\n",
       "      <td>242</td>\n",
       "      <td>England</td>\n",
       "      <td>HC Brook</td>\n",
       "      <td>25</td>\n",
       "    </tr>\n",
       "    <tr>\n",
       "      <th>4</th>\n",
       "      <td>242</td>\n",
       "      <td>England</td>\n",
       "      <td>JC Buttler</td>\n",
       "      <td>43</td>\n",
       "    </tr>\n",
       "    <tr>\n",
       "      <th>...</th>\n",
       "      <td>...</td>\n",
       "      <td>...</td>\n",
       "      <td>...</td>\n",
       "      <td>...</td>\n",
       "    </tr>\n",
       "    <tr>\n",
       "      <th>866</th>\n",
       "      <td>289</td>\n",
       "      <td>India</td>\n",
       "      <td>RG Sharma</td>\n",
       "      <td>47</td>\n",
       "    </tr>\n",
       "    <tr>\n",
       "      <th>867</th>\n",
       "      <td>289</td>\n",
       "      <td>India</td>\n",
       "      <td>SA Yadav</td>\n",
       "      <td>18</td>\n",
       "    </tr>\n",
       "    <tr>\n",
       "      <th>868</th>\n",
       "      <td>289</td>\n",
       "      <td>India</td>\n",
       "      <td>SS Iyer</td>\n",
       "      <td>4</td>\n",
       "    </tr>\n",
       "    <tr>\n",
       "      <th>869</th>\n",
       "      <td>289</td>\n",
       "      <td>India</td>\n",
       "      <td>Shubman Gill</td>\n",
       "      <td>4</td>\n",
       "    </tr>\n",
       "    <tr>\n",
       "      <th>870</th>\n",
       "      <td>289</td>\n",
       "      <td>India</td>\n",
       "      <td>V Kohli</td>\n",
       "      <td>54</td>\n",
       "    </tr>\n",
       "  </tbody>\n",
       "</table>\n",
       "<p>871 rows × 4 columns</p>\n",
       "</div>"
      ],
      "text/plain": [
       "     match_id batting_team       batsmen  batsmen_runs\n",
       "0         242      England     AU Rashid            15\n",
       "1         242      England     CR Woakes            11\n",
       "2         242      England      DJ Malan            14\n",
       "3         242      England      HC Brook            25\n",
       "4         242      England    JC Buttler            43\n",
       "..        ...          ...           ...           ...\n",
       "866       289        India     RG Sharma            47\n",
       "867       289        India      SA Yadav            18\n",
       "868       289        India       SS Iyer             4\n",
       "869       289        India  Shubman Gill             4\n",
       "870       289        India       V Kohli            54\n",
       "\n",
       "[871 rows x 4 columns]"
      ]
     },
     "execution_count": 22,
     "metadata": {},
     "output_type": "execute_result"
    }
   ],
   "source": [
    "overall_stats = balls.groupby([\"match_id\", \"batting_team\",\n",
    "                               \"batsmen\"])[\"batsmen_runs\"].sum().reset_index()\n",
    "overall_stats"
   ]
  },
  {
   "cell_type": "markdown",
   "id": "81790541",
   "metadata": {},
   "source": [
    "### 100 by each team"
   ]
  },
  {
   "cell_type": "code",
   "execution_count": 23,
   "id": "d7520675",
   "metadata": {
    "ExecuteTime": {
     "end_time": "2024-03-09T11:47:45.473562Z",
     "start_time": "2024-03-09T11:47:45.410831Z"
    }
   },
   "outputs": [
    {
     "data": {
      "application/vnd.jupyter.widget-view+json": {
       "model_id": "2ad2450978594f438c479394e5bf60e7",
       "version_major": 2,
       "version_minor": 0
      },
      "text/plain": [
       "interactive(children=(Dropdown(description='team', options=('England', 'Pakistan', 'Afghanistan', 'South Afric…"
      ]
     },
     "metadata": {},
     "output_type": "display_data"
    }
   ],
   "source": [
    "@interact\n",
    "def most_100s(team=matches[\"team_1\"].unique().tolist()):\n",
    "    m = overall_stats[overall_stats[\"batsmen_runs\"] > 99].groupby(\n",
    "        'batting_team')[\"batsmen_runs\"].count().reset_index()\n",
    "\n",
    "    m.loc[len(m)] = {\"batting_team\": \"Netherlands\", \"batsmen_runs\": 0}\n",
    "    # Sorting the DataFrame by \"batting_team\"\n",
    "    return m[m[\"batting_team\"] == team]"
   ]
  },
  {
   "cell_type": "code",
   "execution_count": null,
   "id": "614e2938",
   "metadata": {
    "ExecuteTime": {
     "end_time": "2024-03-01T11:19:57.784052Z",
     "start_time": "2024-03-01T11:19:57.784052Z"
    }
   },
   "outputs": [],
   "source": [
    "most_100s"
   ]
  },
  {
   "cell_type": "markdown",
   "id": "9a8d9cf9",
   "metadata": {},
   "source": [
    "### 50 by each team"
   ]
  },
  {
   "cell_type": "code",
   "execution_count": null,
   "id": "d610aa7f",
   "metadata": {
    "ExecuteTime": {
     "end_time": "2024-03-01T11:19:57.785053Z",
     "start_time": "2024-03-01T11:19:57.785053Z"
    }
   },
   "outputs": [],
   "source": [
    "most_50s = overall_stats[(overall_stats[\"batsmen_runs\"] > 49) & (overall_stats[\"batsmen_runs\"] <= 99) ].groupby('batting_team')[\"batsmen_runs\"].count().reset_index().\\\n",
    "sort_values(by=\"batting_team\")"
   ]
  },
  {
   "cell_type": "code",
   "execution_count": null,
   "id": "5d72e022",
   "metadata": {
    "ExecuteTime": {
     "end_time": "2024-03-01T11:19:57.787053Z",
     "start_time": "2024-03-01T11:19:57.787053Z"
    }
   },
   "outputs": [],
   "source": [
    "most_50s"
   ]
  },
  {
   "cell_type": "code",
   "execution_count": null,
   "id": "7dbd9ef3",
   "metadata": {
    "ExecuteTime": {
     "end_time": "2024-03-01T11:19:57.788053Z",
     "start_time": "2024-03-01T11:19:57.788053Z"
    },
    "scrolled": false
   },
   "outputs": [],
   "source": [
    "import numpy as np\n",
    "import matplotlib.pyplot as plt\n",
    "\n",
    "# Assuming you have most_50s and most_100s DataFrames\n",
    "# ...\n",
    "\n",
    "fig, ax = plt.subplots(figsize=(16, 12))\n",
    "\n",
    "bar_positions_venue = np.arange(len(most_50s))\n",
    "\n",
    "ax.barh(bar_positions_venue, most_50s['batsmen_runs'], label='50')\n",
    "ax.barh(bar_positions_venue, (most_100s['batsmen_runs'] * -1), label='100s')\n",
    "\n",
    "ax.set_yticks(bar_positions_venue)\n",
    "ax.set_yticklabels(most_50s.batting_team)\n",
    "ax.set_xticklabels(ax.get_xticks(), color=\"w\")\n",
    "plt.legend()\n",
    "\n",
    "for i, value in enumerate(most_50s['batsmen_runs']):\n",
    "    ax.text(value + 0.1, i, str(value), va='center', fontsize=10)\n",
    "\n",
    "for i, value in enumerate(most_100s['batsmen_runs']):\n",
    "    ax.text(-value - 0.1, i, str(value), va='center', ha='right', fontsize=10)\n",
    "plt.show()"
   ]
  },
  {
   "cell_type": "markdown",
   "id": "5f9b5160",
   "metadata": {},
   "source": [
    "### 4s by each team"
   ]
  },
  {
   "cell_type": "code",
   "execution_count": null,
   "id": "a63e8414",
   "metadata": {
    "ExecuteTime": {
     "end_time": "2024-03-01T11:19:57.789056Z",
     "start_time": "2024-03-01T11:19:57.789056Z"
    }
   },
   "outputs": [],
   "source": [
    "fours_balls = balls[balls[\"batsmen_runs\"] == 4]\n",
    "totl_fours_team = fours_balls.groupby(\n",
    "    \"batting_team\")[\"batsmen_runs\"].count().reset_index()"
   ]
  },
  {
   "cell_type": "code",
   "execution_count": null,
   "id": "663acb0a",
   "metadata": {
    "ExecuteTime": {
     "end_time": "2024-03-01T11:19:57.791045Z",
     "start_time": "2024-03-01T11:19:57.791045Z"
    }
   },
   "outputs": [],
   "source": [
    "totl_fours_team"
   ]
  },
  {
   "cell_type": "markdown",
   "id": "71e8ffc2",
   "metadata": {},
   "source": [
    "### 6 by each team"
   ]
  },
  {
   "cell_type": "code",
   "execution_count": null,
   "id": "545d19d6",
   "metadata": {
    "ExecuteTime": {
     "end_time": "2024-03-01T11:19:57.792045Z",
     "start_time": "2024-03-01T11:19:57.792045Z"
    }
   },
   "outputs": [],
   "source": [
    "sixes_balls = balls[balls[\"batsmen_runs\"] == 6]\n",
    "totl_sixes_team = sixes_balls.groupby(\n",
    "    \"batting_team\")[\"batsmen_runs\"].count().reset_index()"
   ]
  },
  {
   "cell_type": "code",
   "execution_count": null,
   "id": "e07718b4",
   "metadata": {
    "ExecuteTime": {
     "end_time": "2024-03-01T11:19:57.793045Z",
     "start_time": "2024-03-01T11:19:57.793045Z"
    }
   },
   "outputs": [],
   "source": [
    "totl_sixes_team"
   ]
  },
  {
   "cell_type": "code",
   "execution_count": null,
   "id": "6dbd6e5e",
   "metadata": {
    "ExecuteTime": {
     "end_time": "2024-03-01T11:19:57.794054Z",
     "start_time": "2024-03-01T11:19:57.794054Z"
    }
   },
   "outputs": [],
   "source": [
    "total_boundaries = totl_sixes_team.merge(totl_fours_team, on=\"batting_team\")"
   ]
  },
  {
   "cell_type": "code",
   "execution_count": null,
   "id": "b18e7876",
   "metadata": {
    "ExecuteTime": {
     "end_time": "2024-03-01T11:19:57.795053Z",
     "start_time": "2024-03-01T11:19:57.795053Z"
    }
   },
   "outputs": [],
   "source": [
    "fig, ax = plt.subplots(figsize=(16, 12))\n",
    "\n",
    "bar_positions_venue = np.arange(len(total_boundaries))\n",
    "\n",
    "ax.barh(bar_positions_venue, total_boundaries['batsmen_runs_x'], label='6s')\n",
    "ax.barh(bar_positions_venue, (total_boundaries['batsmen_runs_y'] * -1),\n",
    "        label='4s')\n",
    "\n",
    "ax.set_yticks(bar_positions_venue)\n",
    "ax.set_yticklabels(total_boundaries.batting_team)\n",
    "ax.set_xticklabels(ax.get_xticks(), color=\"w\")\n",
    "legend = plt.legend()\n",
    "# legend.\n",
    "\n",
    "for i, value in enumerate(total_boundaries['batsmen_runs_x']):\n",
    "    ax.text(value + 0.1, i, str(value), va='center', fontsize=10)\n",
    "\n",
    "for i, value in enumerate(total_boundaries['batsmen_runs_y']):\n",
    "    ax.text(-value - 0.1, i, str(value), va='center', ha='right', fontsize=10)\n",
    "plt.show()"
   ]
  },
  {
   "cell_type": "markdown",
   "id": "56f43197",
   "metadata": {},
   "source": [
    "### each team wins"
   ]
  },
  {
   "cell_type": "code",
   "execution_count": null,
   "id": "6d866ee9",
   "metadata": {
    "ExecuteTime": {
     "end_time": "2024-03-01T11:19:57.796054Z",
     "start_time": "2024-03-01T11:19:57.796054Z"
    }
   },
   "outputs": [],
   "source": [
    "def most_wins(matches_df):\n",
    "\n",
    "    return matches_df[\"match_winner\"].value_counts().reset_index().rename(\n",
    "        columns={\n",
    "            \"match_winner\": \"Team\",\n",
    "            \"count\": \"No of Wins\"\n",
    "        })\n",
    "\n",
    "\n",
    "wins_count = most_wins(matches)\n",
    "\n",
    "print(type(wins_count))\n",
    "print(wins_count['Team'].unique())\n",
    "print(wins_count['Team'].dtype)\n",
    "print(wins_count[\"No of Wins\"].dtype)\n",
    "print(type(matches))\n",
    "wins_count"
   ]
  },
  {
   "cell_type": "markdown",
   "id": "b0ed1356",
   "metadata": {},
   "source": [
    "### toss winner"
   ]
  },
  {
   "cell_type": "code",
   "execution_count": null,
   "id": "068e960b",
   "metadata": {
    "ExecuteTime": {
     "end_time": "2024-03-01T11:19:57.797974Z",
     "start_time": "2024-03-01T11:19:57.797974Z"
    }
   },
   "outputs": [],
   "source": [
    "toss_winner = matches[\"toss_winner\"].value_counts()\n",
    "toss_winner"
   ]
  },
  {
   "cell_type": "markdown",
   "id": "c7cac175",
   "metadata": {},
   "source": [
    "### venues"
   ]
  },
  {
   "cell_type": "code",
   "execution_count": null,
   "id": "ab47c276",
   "metadata": {
    "ExecuteTime": {
     "end_time": "2024-03-01T11:19:57.799193Z",
     "start_time": "2024-03-01T11:19:57.799193Z"
    }
   },
   "outputs": [],
   "source": [
    "venues = matches[\"venue\"].value_counts()\n",
    "venues"
   ]
  },
  {
   "cell_type": "markdown",
   "id": "4b05aa2b",
   "metadata": {},
   "source": [
    "### most runs in 1st 10 overs"
   ]
  },
  {
   "cell_type": "code",
   "execution_count": null,
   "id": "5a621f81",
   "metadata": {
    "ExecuteTime": {
     "end_time": "2024-03-01T11:19:57.799193Z",
     "start_time": "2024-03-01T11:19:57.799193Z"
    }
   },
   "outputs": [],
   "source": [
    "(balls[balls[\"over_num\"]< 10].groupby([\"batting_team\"])[\"total_runs\"].sum()  /\n",
    " balls[(balls[\"extra_type\"] != \"noballs\") & (balls[\"extra_type\"] != \"wides\") & (balls[\"over_num\"] < 10)  ].\\\n",
    " groupby([\"batting_team\"])[\"over_num\"].count() )*10"
   ]
  },
  {
   "cell_type": "markdown",
   "id": "252515bc",
   "metadata": {},
   "source": [
    "### most runs in last 10 overs"
   ]
  },
  {
   "cell_type": "code",
   "execution_count": null,
   "id": "439ee211",
   "metadata": {
    "ExecuteTime": {
     "end_time": "2024-03-01T11:19:57.799193Z",
     "start_time": "2024-03-01T11:19:57.799193Z"
    }
   },
   "outputs": [],
   "source": [
    "(balls[balls[\"over_num\"]> 40].groupby([\"batting_team\"])[\"total_runs\"].sum() /\n",
    " balls[(balls[\"extra_type\"] != \"noballs\") & (balls[\"extra_type\"] != \"wides\") & (balls[\"over_num\"] > 40)  ].\\\n",
    " groupby([\"batting_team\"])[\"over_num\"].count() )*10"
   ]
  },
  {
   "cell_type": "markdown",
   "id": "08283bdb",
   "metadata": {},
   "source": [
    "### run rate in middle overs"
   ]
  },
  {
   "cell_type": "code",
   "execution_count": null,
   "id": "d7f794f1",
   "metadata": {
    "ExecuteTime": {
     "end_time": "2024-03-01T11:19:57.804843Z",
     "start_time": "2024-03-01T11:19:57.804843Z"
    }
   },
   "outputs": [],
   "source": [
    "(balls[balls[\"over_num\"]> 40].groupby([\"batting_team\"])[\"total_runs\"].sum() /\n",
    " balls[(balls[\"extra_type\"] != \"noballs\") & (balls[\"extra_type\"] != \"wides\") & (balls[\"over_num\"] < 40)\n",
    "    & (balls[\"over_num\"] > 10) ].\\\n",
    " groupby([\"batting_team\"])[\"over_num\"].count() )*10"
   ]
  },
  {
   "cell_type": "markdown",
   "id": "b974d326",
   "metadata": {},
   "source": [
    "### 1st innings average score at different venue"
   ]
  },
  {
   "cell_type": "code",
   "execution_count": null,
   "id": "de96e637",
   "metadata": {
    "ExecuteTime": {
     "end_time": "2024-03-01T11:19:57.806844Z",
     "start_time": "2024-03-01T11:19:57.806844Z"
    }
   },
   "outputs": [],
   "source": [
    "balls = balls.merge(matches[[\"match_id\", \"city\"]], on=\"match_id\")"
   ]
  },
  {
   "cell_type": "code",
   "execution_count": null,
   "id": "83cc06a8",
   "metadata": {
    "ExecuteTime": {
     "end_time": "2024-03-01T11:19:57.810357Z",
     "start_time": "2024-03-01T11:19:57.810357Z"
    }
   },
   "outputs": [],
   "source": [
    "first_inn = balls[balls[\"inning_no\"] == 1]\n",
    "np.round(\n",
    "    first_inn.groupby([\"city\"])[\"total_runs\"].sum() /\n",
    "    matches[\"city\"].value_counts().sort_index()).reset_index()"
   ]
  },
  {
   "cell_type": "markdown",
   "id": "3eed0e5d",
   "metadata": {},
   "source": [
    "### toss win match win %"
   ]
  },
  {
   "cell_type": "code",
   "execution_count": null,
   "id": "f32b4390",
   "metadata": {
    "ExecuteTime": {
     "end_time": "2024-03-01T11:19:57.812409Z",
     "start_time": "2024-03-01T11:19:57.811396Z"
    }
   },
   "outputs": [],
   "source": [
    "np.round(matches[matches[\"toss_winner\"] == matches[\"match_winner\"]].shape[0] /\n",
    "         matches.shape[0] * 100)"
   ]
  },
  {
   "cell_type": "markdown",
   "id": "702d3f1f",
   "metadata": {},
   "source": [
    "### toss decision %"
   ]
  },
  {
   "cell_type": "code",
   "execution_count": null,
   "id": "a2abd5ad",
   "metadata": {
    "ExecuteTime": {
     "end_time": "2024-03-01T11:19:57.813403Z",
     "start_time": "2024-03-01T11:19:57.813403Z"
    }
   },
   "outputs": [],
   "source": [
    "matches[\"toss_decision\"].value_counts().plot(kind=\"pie\", autopct=\"%.2f%%\")\n",
    "plt.pie(radius=0.8, colors=\"w\", x=[360])\n",
    "matches[\"toss_decision\"].value_counts().reset_index()"
   ]
  },
  {
   "cell_type": "markdown",
   "id": "ca706983",
   "metadata": {},
   "source": [
    "### batting 1st won or bowling 1st"
   ]
  },
  {
   "cell_type": "code",
   "execution_count": null,
   "id": "670479d8",
   "metadata": {
    "ExecuteTime": {
     "end_time": "2024-03-01T11:19:57.815441Z",
     "start_time": "2024-03-01T11:19:57.815441Z"
    }
   },
   "outputs": [],
   "source": [
    "bat1 = matches[matches[\"toss_decision\"] == \"bat\"]"
   ]
  },
  {
   "cell_type": "code",
   "execution_count": null,
   "id": "d445a50e",
   "metadata": {
    "ExecuteTime": {
     "end_time": "2024-03-01T11:19:57.817405Z",
     "start_time": "2024-03-01T11:19:57.817405Z"
    }
   },
   "outputs": [],
   "source": [
    "bat_1_wom = matches[(matches[\"toss_decision\"] == \"bat\") & (\n",
    "    matches[\"toss_winner\"] == matches[\"match_winner\"])].shape[0] + matches[\n",
    "        (matches[\"toss_decision\"] == \"field\")\n",
    "        & (matches[\"toss_winner\"] != matches[\"match_winner\"])].shape[0]"
   ]
  },
  {
   "cell_type": "code",
   "execution_count": null,
   "id": "fb37f52c",
   "metadata": {
    "ExecuteTime": {
     "end_time": "2024-03-01T11:19:57.819087Z",
     "start_time": "2024-03-01T11:19:57.819087Z"
    }
   },
   "outputs": [],
   "source": [
    "bat_2_wom = matches[(matches[\"toss_decision\"] == \"bat\") & (\n",
    "    matches[\"toss_winner\"] != matches[\"match_winner\"])].shape[0] + matches[\n",
    "        (matches[\"toss_decision\"] == \"field\")\n",
    "        & (matches[\"toss_winner\"] == matches[\"match_winner\"])].shape[0]"
   ]
  },
  {
   "cell_type": "code",
   "execution_count": null,
   "id": "dac5c6df",
   "metadata": {
    "ExecuteTime": {
     "end_time": "2024-03-01T11:19:57.819087Z",
     "start_time": "2024-03-01T11:19:57.819087Z"
    }
   },
   "outputs": [],
   "source": [
    "plt.pie([bat_1_wom, bat_2_wom],\n",
    "        autopct=\"%.2f%%\",\n",
    "        labels=['bat_1_wom', 'bat_2_wom'])"
   ]
  },
  {
   "cell_type": "markdown",
   "id": "17e3106a",
   "metadata": {},
   "source": [
    "### eachh teams average score in 1st inning"
   ]
  },
  {
   "cell_type": "code",
   "execution_count": null,
   "id": "46990024",
   "metadata": {
    "ExecuteTime": {
     "end_time": "2024-03-01T11:19:57.819087Z",
     "start_time": "2024-03-01T11:19:57.819087Z"
    }
   },
   "outputs": [],
   "source": [
    "balls[balls['inning_no'] == 1].groupby(\n",
    "    [\"batting_team\"])[\"total_runs\"].sum() / matches[\"team_1\"].value_counts()"
   ]
  },
  {
   "cell_type": "markdown",
   "id": "e1cb01d0",
   "metadata": {},
   "source": [
    "### toss decision by venue"
   ]
  },
  {
   "cell_type": "code",
   "execution_count": null,
   "id": "f3ca23c5",
   "metadata": {
    "ExecuteTime": {
     "end_time": "2024-03-01T11:19:57.824732Z",
     "start_time": "2024-03-01T11:19:57.824732Z"
    }
   },
   "outputs": [],
   "source": [
    "grouped = matches.groupby([\"venue\",\n",
    "                           \"toss_decision\"]).size().unstack().reset_index()\n",
    "fig, ax = plt.subplots()\n",
    "bar_width = 0.35\n",
    "bar_positions_bat = np.arange(len(grouped))\n",
    "ax.barh(\n",
    "    bar_positions_bat - bar_width / 2,\n",
    "    grouped['bat'],\n",
    "    bar_width,\n",
    ")\n",
    "ax.barh(\n",
    "    bar_positions_bat + bar_width / 2,\n",
    "    grouped['field'],\n",
    "    bar_width,\n",
    ")\n",
    "ax.set_yticks(bar_positions_bat)\n",
    "ax.set_yticklabels(grouped.index)\n",
    "grouped"
   ]
  },
  {
   "cell_type": "markdown",
   "id": "a1bcd795",
   "metadata": {},
   "source": [
    "### bat 1st win or lose by venue"
   ]
  },
  {
   "cell_type": "code",
   "execution_count": null,
   "id": "e1c48f52",
   "metadata": {
    "ExecuteTime": {
     "end_time": "2024-03-01T11:19:57.826739Z",
     "start_time": "2024-03-01T11:19:57.826739Z"
    }
   },
   "outputs": [],
   "source": [
    "venue_111 = matches[(matches[\"toss_decision\"] == \"bat\")\n",
    "                    & (matches[\"toss_winner\"] == matches[\"match_winner\"]\n",
    "                       )][\"venue\"].value_counts().reset_index()\n",
    "venue__112 = matches[(matches[\"toss_decision\"] == \"field\")\n",
    "                     & (matches[\"toss_winner\"] != matches[\"match_winner\"]\n",
    "                        )][\"venue\"].value_counts().reset_index()\n",
    "venue_bat_won = venue_111.merge(venue__112, on=\"venue\", how=\"outer\").fillna(0)\n",
    "venue_222 = matches[(matches[\"toss_decision\"] == \"bat\")\n",
    "                    & (matches[\"toss_winner\"] != matches[\"match_winner\"]\n",
    "                       )][\"venue\"].value_counts().reset_index()\n",
    "venue__212 = matches[(matches[\"toss_decision\"] == \"field\")\n",
    "                     & (matches[\"toss_winner\"] == matches[\"match_winner\"]\n",
    "                        )][\"venue\"].value_counts().reset_index()\n",
    "venue_field_won = venue_222.merge(venue__212, on=\"venue\",\n",
    "                                  how=\"outer\").fillna(0)\n",
    "venue_field_won[\n",
    "    \"won\"] = venue_field_won[\"count_x\"] + venue_field_won[\"count_y\"]\n",
    "venue_bat_won[\"won\"] = venue_bat_won[\"count_x\"] + venue_bat_won[\"count_y\"]\n",
    "venue_bat_won[\"won\"] = (venue_bat_won[\"won\"])\n",
    "venue = venue_bat_won[[\"venue\", \"won\"]].merge(venue_field_won[[\"venue\",\n",
    "                                                               \"won\"]],\n",
    "                                              on='venue')\n",
    "venue"
   ]
  },
  {
   "cell_type": "code",
   "execution_count": null,
   "id": "b2132a58",
   "metadata": {
    "ExecuteTime": {
     "end_time": "2024-03-01T11:19:57.828747Z",
     "start_time": "2024-03-01T11:19:57.828747Z"
    }
   },
   "outputs": [],
   "source": [
    "venue = venue.sort_values(by='venue')\n",
    "\n",
    "fig, ax = plt.subplots()\n",
    "# bar_width = 0.35\n",
    "bar_positions_venue = np.arange(len(venue))\n",
    "\n",
    "ax.barh(bar_positions_venue, venue['won_y'], label='bat 2')\n",
    "\n",
    "ax.barh(bar_positions_venue, (venue['won_x'] * -1), label='bat 1')\n",
    "\n",
    "ax.set_yticks(bar_positions_venue)\n",
    "ax.set_yticklabels(venue['venue'])\n",
    "plt.legend()\n",
    "ax.set_xlim(-5, 5)\n",
    "ax.set_xticklabels([5, 4, 3, 2, 1, 0, 1, 2, 3, 4, 5])\n",
    "ax.set_yticks(bar_positions_venue)\n",
    "ax.set_yticklabels(venue['venue'])\n",
    "plt.legend()\n",
    "\n",
    "ax.set_xticks([-5, -4, -3, -2, -1, 0, 1, 2, 3, 4, 5])\n",
    "ax.set_xticklabels([5, 4, 3, 2, 1, 0, 1, 2, 3, 4, 5])\n",
    "\n",
    "plt.show()\n",
    "plt.show()"
   ]
  },
  {
   "cell_type": "code",
   "execution_count": null,
   "id": "9065d814",
   "metadata": {
    "ExecuteTime": {
     "end_time": "2024-03-01T11:19:57.829739Z",
     "start_time": "2024-03-01T11:19:57.829739Z"
    }
   },
   "outputs": [],
   "source": [
    "match_agg = balls.groupby([\"match_id\"]).agg({\n",
    "    'total_runs': 'sum'\n",
    "}).reset_index().sort_values(by=\"total_runs\", ascending=False)\n",
    "match_agg[[\"team_1\", \"team_2\"]] = matches[matches[\"match_id\"].isin(\n",
    "    match_agg[\"match_id\"].tolist())][[\"team_1\", \"team_2\"]]\n",
    "match_agg[\"vs\"] = match_agg[\"team_1\"] + str(\" vs \") + match_agg[\"team_2\"]"
   ]
  },
  {
   "cell_type": "code",
   "execution_count": null,
   "id": "51ffeb6a",
   "metadata": {
    "ExecuteTime": {
     "end_time": "2024-03-01T11:19:57.831739Z",
     "start_time": "2024-03-01T11:19:57.831739Z"
    }
   },
   "outputs": [],
   "source": [
    "match_agg"
   ]
  },
  {
   "cell_type": "code",
   "execution_count": null,
   "id": "88390eb4",
   "metadata": {},
   "outputs": [],
   "source": []
  }
 ],
 "metadata": {
  "kernelspec": {
   "display_name": "Python 3 (ipykernel)",
   "language": "python",
   "name": "python3"
  },
  "language_info": {
   "codemirror_mode": {
    "name": "ipython",
    "version": 3
   },
   "file_extension": ".py",
   "mimetype": "text/x-python",
   "name": "python",
   "nbconvert_exporter": "python",
   "pygments_lexer": "ipython3",
   "version": "3.11.5"
  },
  "toc": {
   "base_numbering": 1,
   "nav_menu": {},
   "number_sections": true,
   "sideBar": true,
   "skip_h1_title": false,
   "title_cell": "Table of Contents",
   "title_sidebar": "Contents",
   "toc_cell": false,
   "toc_position": {},
   "toc_section_display": true,
   "toc_window_display": false
  },
  "varInspector": {
   "cols": {
    "lenName": 16,
    "lenType": 16,
    "lenVar": 40
   },
   "kernels_config": {
    "python": {
     "delete_cmd_postfix": "",
     "delete_cmd_prefix": "del ",
     "library": "var_list.py",
     "varRefreshCmd": "print(var_dic_list())"
    },
    "r": {
     "delete_cmd_postfix": ") ",
     "delete_cmd_prefix": "rm(",
     "library": "var_list.r",
     "varRefreshCmd": "cat(var_dic_list()) "
    }
   },
   "oldHeight": 368.397454,
   "position": {
    "height": "36.5455px",
    "left": "3.81818px",
    "right": "20px",
    "top": "2px",
    "width": "800px"
   },
   "types_to_exclude": [
    "module",
    "function",
    "builtin_function_or_method",
    "instance",
    "_Feature"
   ],
   "varInspector_section_display": "none",
   "window_display": true
  }
 },
 "nbformat": 4,
 "nbformat_minor": 5
}
